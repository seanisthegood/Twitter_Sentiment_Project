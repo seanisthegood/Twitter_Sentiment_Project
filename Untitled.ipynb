{
 "cells": [
  {
   "cell_type": "markdown",
   "id": "01995136",
   "metadata": {},
   "source": [
    "# Twitter Sentiment Analysis "
   ]
  },
  {
   "cell_type": "markdown",
   "id": "f359fd33",
   "metadata": {},
   "source": [
    "This is a Natural Language Processing (NLP) Project to perform sentiment analysis on Tweets about various products to determine the if the sentiment was positive, negative, or neutral. A successful model would prove valueable. "
   ]
  },
  {
   "cell_type": "code",
   "execution_count": 268,
   "id": "ab2e3bd7",
   "metadata": {},
   "outputs": [],
   "source": [
    "import pandas as pd\n",
    "import seaborn as sns\n",
    "import numpy as np"
   ]
  },
  {
   "cell_type": "code",
   "execution_count": 269,
   "id": "36ab1bef",
   "metadata": {},
   "outputs": [],
   "source": [
    "import json\n",
    "\n",
    "import re\n",
    "import nltk\n",
    "## for bag-of-words\n",
    "from sklearn import feature_extraction, model_selection, naive_bayes, pipeline, manifold, preprocessing\n",
    "## for explainer\n",
    "\n"
   ]
  },
  {
   "cell_type": "code",
   "execution_count": 270,
   "id": "031b4189",
   "metadata": {},
   "outputs": [],
   "source": [
    "from lime import lime_text\n",
    "## for word embedding"
   ]
  },
  {
   "cell_type": "code",
   "execution_count": 271,
   "id": "031ae0b5",
   "metadata": {},
   "outputs": [],
   "source": [
    "import gensim\n",
    "import gensim.downloader as gensim_api\n",
    "## for deep learning\n",
    "from tensorflow.keras import models, layers, preprocessing as kprocessing\n",
    "from tensorflow.keras import backend as K\n",
    "## for bert language model\n"
   ]
  },
  {
   "cell_type": "code",
   "execution_count": 272,
   "id": "89f61de0",
   "metadata": {},
   "outputs": [
    {
     "ename": "ModuleNotFoundError",
     "evalue": "No module named 'transformers'",
     "output_type": "error",
     "traceback": [
      "\u001b[0;31m---------------------------------------------------------------------------\u001b[0m",
      "\u001b[0;31mModuleNotFoundError\u001b[0m                       Traceback (most recent call last)",
      "Input \u001b[0;32mIn [272]\u001b[0m, in \u001b[0;36m<cell line: 1>\u001b[0;34m()\u001b[0m\n\u001b[0;32m----> 1\u001b[0m \u001b[38;5;28;01mimport\u001b[39;00m \u001b[38;5;21;01mtransformers\u001b[39;00m\n",
      "\u001b[0;31mModuleNotFoundError\u001b[0m: No module named 'transformers'"
     ]
    }
   ],
   "source": [
    "import transformers"
   ]
  },
  {
   "cell_type": "markdown",
   "id": "0314994b",
   "metadata": {},
   "source": [
    "## Initial Data Exploration"
   ]
  },
  {
   "cell_type": "markdown",
   "id": "948926ff",
   "metadata": {},
   "source": [
    "### Data Set`"
   ]
  },
  {
   "cell_type": "code",
   "execution_count": 319,
   "id": "2ffde5d3",
   "metadata": {},
   "outputs": [],
   "source": [
    "data = pd.read_csv('Data/judge-1377884607_tweet_product_company.csv',encoding='latin1')"
   ]
  },
  {
   "cell_type": "code",
   "execution_count": 285,
   "id": "911ccfce",
   "metadata": {},
   "outputs": [
    {
     "data": {
      "text/html": [
       "<div>\n",
       "<style scoped>\n",
       "    .dataframe tbody tr th:only-of-type {\n",
       "        vertical-align: middle;\n",
       "    }\n",
       "\n",
       "    .dataframe tbody tr th {\n",
       "        vertical-align: top;\n",
       "    }\n",
       "\n",
       "    .dataframe thead th {\n",
       "        text-align: right;\n",
       "    }\n",
       "</style>\n",
       "<table border=\"1\" class=\"dataframe\">\n",
       "  <thead>\n",
       "    <tr style=\"text-align: right;\">\n",
       "      <th></th>\n",
       "      <th>tweet_text</th>\n",
       "      <th>emotion_in_tweet_is_directed_at</th>\n",
       "      <th>is_there_an_emotion_directed_at_a_brand_or_product</th>\n",
       "    </tr>\n",
       "  </thead>\n",
       "  <tbody>\n",
       "    <tr>\n",
       "      <th>0</th>\n",
       "      <td>.@wesley83 I have a 3G iPhone. After 3 hrs twe...</td>\n",
       "      <td>iPhone</td>\n",
       "      <td>Negative emotion</td>\n",
       "    </tr>\n",
       "    <tr>\n",
       "      <th>1</th>\n",
       "      <td>@jessedee Know about @fludapp ? Awesome iPad/i...</td>\n",
       "      <td>iPad or iPhone App</td>\n",
       "      <td>Positive emotion</td>\n",
       "    </tr>\n",
       "    <tr>\n",
       "      <th>2</th>\n",
       "      <td>@swonderlin Can not wait for #iPad 2 also. The...</td>\n",
       "      <td>iPad</td>\n",
       "      <td>Positive emotion</td>\n",
       "    </tr>\n",
       "    <tr>\n",
       "      <th>3</th>\n",
       "      <td>@sxsw I hope this year's festival isn't as cra...</td>\n",
       "      <td>iPad or iPhone App</td>\n",
       "      <td>Negative emotion</td>\n",
       "    </tr>\n",
       "    <tr>\n",
       "      <th>4</th>\n",
       "      <td>@sxtxstate great stuff on Fri #SXSW: Marissa M...</td>\n",
       "      <td>Google</td>\n",
       "      <td>Positive emotion</td>\n",
       "    </tr>\n",
       "    <tr>\n",
       "      <th>...</th>\n",
       "      <td>...</td>\n",
       "      <td>...</td>\n",
       "      <td>...</td>\n",
       "    </tr>\n",
       "    <tr>\n",
       "      <th>9088</th>\n",
       "      <td>Ipad everywhere. #SXSW {link}</td>\n",
       "      <td>iPad</td>\n",
       "      <td>Positive emotion</td>\n",
       "    </tr>\n",
       "    <tr>\n",
       "      <th>9089</th>\n",
       "      <td>Wave, buzz... RT @mention We interrupt your re...</td>\n",
       "      <td>NaN</td>\n",
       "      <td>No emotion toward brand or product</td>\n",
       "    </tr>\n",
       "    <tr>\n",
       "      <th>9090</th>\n",
       "      <td>Google's Zeiger, a physician never reported po...</td>\n",
       "      <td>NaN</td>\n",
       "      <td>No emotion toward brand or product</td>\n",
       "    </tr>\n",
       "    <tr>\n",
       "      <th>9091</th>\n",
       "      <td>Some Verizon iPhone customers complained their...</td>\n",
       "      <td>NaN</td>\n",
       "      <td>No emotion toward brand or product</td>\n",
       "    </tr>\n",
       "    <tr>\n",
       "      <th>9092</th>\n",
       "      <td>Ï¡Ïàü_ÊÎÒ£Áââ_£â_ÛâRT @...</td>\n",
       "      <td>NaN</td>\n",
       "      <td>No emotion toward brand or product</td>\n",
       "    </tr>\n",
       "  </tbody>\n",
       "</table>\n",
       "<p>9093 rows × 3 columns</p>\n",
       "</div>"
      ],
      "text/plain": [
       "                                             tweet_text  \\\n",
       "0     .@wesley83 I have a 3G iPhone. After 3 hrs twe...   \n",
       "1     @jessedee Know about @fludapp ? Awesome iPad/i...   \n",
       "2     @swonderlin Can not wait for #iPad 2 also. The...   \n",
       "3     @sxsw I hope this year's festival isn't as cra...   \n",
       "4     @sxtxstate great stuff on Fri #SXSW: Marissa M...   \n",
       "...                                                 ...   \n",
       "9088                      Ipad everywhere. #SXSW {link}   \n",
       "9089  Wave, buzz... RT @mention We interrupt your re...   \n",
       "9090  Google's Zeiger, a physician never reported po...   \n",
       "9091  Some Verizon iPhone customers complained their...   \n",
       "9092  Ï¡Ïàü_ÊÎÒ£Áââ_£â_ÛâRT @...   \n",
       "\n",
       "     emotion_in_tweet_is_directed_at  \\\n",
       "0                             iPhone   \n",
       "1                 iPad or iPhone App   \n",
       "2                               iPad   \n",
       "3                 iPad or iPhone App   \n",
       "4                             Google   \n",
       "...                              ...   \n",
       "9088                            iPad   \n",
       "9089                             NaN   \n",
       "9090                             NaN   \n",
       "9091                             NaN   \n",
       "9092                             NaN   \n",
       "\n",
       "     is_there_an_emotion_directed_at_a_brand_or_product  \n",
       "0                                      Negative emotion  \n",
       "1                                      Positive emotion  \n",
       "2                                      Positive emotion  \n",
       "3                                      Negative emotion  \n",
       "4                                      Positive emotion  \n",
       "...                                                 ...  \n",
       "9088                                   Positive emotion  \n",
       "9089                 No emotion toward brand or product  \n",
       "9090                 No emotion toward brand or product  \n",
       "9091                 No emotion toward brand or product  \n",
       "9092                 No emotion toward brand or product  \n",
       "\n",
       "[9093 rows x 3 columns]"
      ]
     },
     "execution_count": 285,
     "metadata": {},
     "output_type": "execute_result"
    }
   ],
   "source": [
    "data"
   ]
  },
  {
   "cell_type": "code",
   "execution_count": 286,
   "id": "0e031a40",
   "metadata": {},
   "outputs": [
    {
     "data": {
      "text/html": [
       "<div>\n",
       "<style scoped>\n",
       "    .dataframe tbody tr th:only-of-type {\n",
       "        vertical-align: middle;\n",
       "    }\n",
       "\n",
       "    .dataframe tbody tr th {\n",
       "        vertical-align: top;\n",
       "    }\n",
       "\n",
       "    .dataframe thead th {\n",
       "        text-align: right;\n",
       "    }\n",
       "</style>\n",
       "<table border=\"1\" class=\"dataframe\">\n",
       "  <thead>\n",
       "    <tr style=\"text-align: right;\">\n",
       "      <th></th>\n",
       "      <th>tweet_text</th>\n",
       "      <th>emotion_in_tweet_is_directed_at</th>\n",
       "      <th>is_there_an_emotion_directed_at_a_brand_or_product</th>\n",
       "    </tr>\n",
       "  </thead>\n",
       "  <tbody>\n",
       "    <tr>\n",
       "      <th>0</th>\n",
       "      <td>.@wesley83 I have a 3G iPhone. After 3 hrs twe...</td>\n",
       "      <td>iPhone</td>\n",
       "      <td>Negative emotion</td>\n",
       "    </tr>\n",
       "    <tr>\n",
       "      <th>1</th>\n",
       "      <td>@jessedee Know about @fludapp ? Awesome iPad/i...</td>\n",
       "      <td>iPad or iPhone App</td>\n",
       "      <td>Positive emotion</td>\n",
       "    </tr>\n",
       "    <tr>\n",
       "      <th>2</th>\n",
       "      <td>@swonderlin Can not wait for #iPad 2 also. The...</td>\n",
       "      <td>iPad</td>\n",
       "      <td>Positive emotion</td>\n",
       "    </tr>\n",
       "    <tr>\n",
       "      <th>3</th>\n",
       "      <td>@sxsw I hope this year's festival isn't as cra...</td>\n",
       "      <td>iPad or iPhone App</td>\n",
       "      <td>Negative emotion</td>\n",
       "    </tr>\n",
       "    <tr>\n",
       "      <th>4</th>\n",
       "      <td>@sxtxstate great stuff on Fri #SXSW: Marissa M...</td>\n",
       "      <td>Google</td>\n",
       "      <td>Positive emotion</td>\n",
       "    </tr>\n",
       "    <tr>\n",
       "      <th>5</th>\n",
       "      <td>@teachntech00 New iPad Apps For #SpeechTherapy...</td>\n",
       "      <td>NaN</td>\n",
       "      <td>No emotion toward brand or product</td>\n",
       "    </tr>\n",
       "    <tr>\n",
       "      <th>6</th>\n",
       "      <td>NaN</td>\n",
       "      <td>NaN</td>\n",
       "      <td>No emotion toward brand or product</td>\n",
       "    </tr>\n",
       "    <tr>\n",
       "      <th>7</th>\n",
       "      <td>#SXSW is just starting, #CTIA is around the co...</td>\n",
       "      <td>Android</td>\n",
       "      <td>Positive emotion</td>\n",
       "    </tr>\n",
       "    <tr>\n",
       "      <th>8</th>\n",
       "      <td>Beautifully smart and simple idea RT @madebyma...</td>\n",
       "      <td>iPad or iPhone App</td>\n",
       "      <td>Positive emotion</td>\n",
       "    </tr>\n",
       "    <tr>\n",
       "      <th>9</th>\n",
       "      <td>Counting down the days to #sxsw plus strong Ca...</td>\n",
       "      <td>Apple</td>\n",
       "      <td>Positive emotion</td>\n",
       "    </tr>\n",
       "    <tr>\n",
       "      <th>10</th>\n",
       "      <td>Excited to meet the @samsungmobileus at #sxsw ...</td>\n",
       "      <td>Android</td>\n",
       "      <td>Positive emotion</td>\n",
       "    </tr>\n",
       "    <tr>\n",
       "      <th>11</th>\n",
       "      <td>Find &amp;amp; Start Impromptu Parties at #SXSW Wi...</td>\n",
       "      <td>Android App</td>\n",
       "      <td>Positive emotion</td>\n",
       "    </tr>\n",
       "    <tr>\n",
       "      <th>12</th>\n",
       "      <td>Foursquare ups the game, just in time for #SXS...</td>\n",
       "      <td>Android App</td>\n",
       "      <td>Positive emotion</td>\n",
       "    </tr>\n",
       "    <tr>\n",
       "      <th>13</th>\n",
       "      <td>Gotta love this #SXSW Google Calendar featurin...</td>\n",
       "      <td>Other Google product or service</td>\n",
       "      <td>Positive emotion</td>\n",
       "    </tr>\n",
       "    <tr>\n",
       "      <th>14</th>\n",
       "      <td>Great #sxsw ipad app from @madebymany: http://...</td>\n",
       "      <td>iPad or iPhone App</td>\n",
       "      <td>Positive emotion</td>\n",
       "    </tr>\n",
       "    <tr>\n",
       "      <th>15</th>\n",
       "      <td>haha, awesomely rad iPad app by @madebymany ht...</td>\n",
       "      <td>iPad or iPhone App</td>\n",
       "      <td>Positive emotion</td>\n",
       "    </tr>\n",
       "    <tr>\n",
       "      <th>16</th>\n",
       "      <td>Holler Gram for iPad on the iTunes App Store -...</td>\n",
       "      <td>NaN</td>\n",
       "      <td>No emotion toward brand or product</td>\n",
       "    </tr>\n",
       "    <tr>\n",
       "      <th>17</th>\n",
       "      <td>I just noticed DST is coming this weekend. How...</td>\n",
       "      <td>iPhone</td>\n",
       "      <td>Negative emotion</td>\n",
       "    </tr>\n",
       "    <tr>\n",
       "      <th>18</th>\n",
       "      <td>Just added my #SXSW flights to @planely. Match...</td>\n",
       "      <td>iPad or iPhone App</td>\n",
       "      <td>Positive emotion</td>\n",
       "    </tr>\n",
       "    <tr>\n",
       "      <th>19</th>\n",
       "      <td>Must have #SXSW app! RT @malbonster: Lovely re...</td>\n",
       "      <td>iPad or iPhone App</td>\n",
       "      <td>Positive emotion</td>\n",
       "    </tr>\n",
       "  </tbody>\n",
       "</table>\n",
       "</div>"
      ],
      "text/plain": [
       "                                           tweet_text  \\\n",
       "0   .@wesley83 I have a 3G iPhone. After 3 hrs twe...   \n",
       "1   @jessedee Know about @fludapp ? Awesome iPad/i...   \n",
       "2   @swonderlin Can not wait for #iPad 2 also. The...   \n",
       "3   @sxsw I hope this year's festival isn't as cra...   \n",
       "4   @sxtxstate great stuff on Fri #SXSW: Marissa M...   \n",
       "5   @teachntech00 New iPad Apps For #SpeechTherapy...   \n",
       "6                                                 NaN   \n",
       "7   #SXSW is just starting, #CTIA is around the co...   \n",
       "8   Beautifully smart and simple idea RT @madebyma...   \n",
       "9   Counting down the days to #sxsw plus strong Ca...   \n",
       "10  Excited to meet the @samsungmobileus at #sxsw ...   \n",
       "11  Find &amp; Start Impromptu Parties at #SXSW Wi...   \n",
       "12  Foursquare ups the game, just in time for #SXS...   \n",
       "13  Gotta love this #SXSW Google Calendar featurin...   \n",
       "14  Great #sxsw ipad app from @madebymany: http://...   \n",
       "15  haha, awesomely rad iPad app by @madebymany ht...   \n",
       "16  Holler Gram for iPad on the iTunes App Store -...   \n",
       "17  I just noticed DST is coming this weekend. How...   \n",
       "18  Just added my #SXSW flights to @planely. Match...   \n",
       "19  Must have #SXSW app! RT @malbonster: Lovely re...   \n",
       "\n",
       "    emotion_in_tweet_is_directed_at  \\\n",
       "0                            iPhone   \n",
       "1                iPad or iPhone App   \n",
       "2                              iPad   \n",
       "3                iPad or iPhone App   \n",
       "4                            Google   \n",
       "5                               NaN   \n",
       "6                               NaN   \n",
       "7                           Android   \n",
       "8                iPad or iPhone App   \n",
       "9                             Apple   \n",
       "10                          Android   \n",
       "11                      Android App   \n",
       "12                      Android App   \n",
       "13  Other Google product or service   \n",
       "14               iPad or iPhone App   \n",
       "15               iPad or iPhone App   \n",
       "16                              NaN   \n",
       "17                           iPhone   \n",
       "18               iPad or iPhone App   \n",
       "19               iPad or iPhone App   \n",
       "\n",
       "   is_there_an_emotion_directed_at_a_brand_or_product  \n",
       "0                                    Negative emotion  \n",
       "1                                    Positive emotion  \n",
       "2                                    Positive emotion  \n",
       "3                                    Negative emotion  \n",
       "4                                    Positive emotion  \n",
       "5                  No emotion toward brand or product  \n",
       "6                  No emotion toward brand or product  \n",
       "7                                    Positive emotion  \n",
       "8                                    Positive emotion  \n",
       "9                                    Positive emotion  \n",
       "10                                   Positive emotion  \n",
       "11                                   Positive emotion  \n",
       "12                                   Positive emotion  \n",
       "13                                   Positive emotion  \n",
       "14                                   Positive emotion  \n",
       "15                                   Positive emotion  \n",
       "16                 No emotion toward brand or product  \n",
       "17                                   Negative emotion  \n",
       "18                                   Positive emotion  \n",
       "19                                   Positive emotion  "
      ]
     },
     "execution_count": 286,
     "metadata": {},
     "output_type": "execute_result"
    }
   ],
   "source": [
    "data.head(20)"
   ]
  },
  {
   "cell_type": "markdown",
   "id": "7389e659",
   "metadata": {},
   "source": [
    "Off the bat there may be some cleaning that needs to be done to the DataSet before we can even begin to preprocess it for NLP modeling. \n",
    "\n",
    "The data set has 9093 entries, so we are not dealing with e big data challenge, but the use case for Deep Learning will be trying to get the sentiment of each sentence rather than the individual words. It's also important to remember twitter sentences contain hashtages, \"@Tweets,\" and other non-normal words. \n",
    "\n",
    "The second column indicates which product the tweet is discussing and will need to be cleaned and processed. \n",
    "\n",
    "Finally the third column shows the reaction, this will. be the target "
   ]
  },
  {
   "cell_type": "markdown",
   "id": "5f1d7db5",
   "metadata": {},
   "source": [
    "### Rename Columns"
   ]
  },
  {
   "cell_type": "code",
   "execution_count": 320,
   "id": "6b9f7493",
   "metadata": {},
   "outputs": [
    {
     "data": {
      "text/plain": [
       "Index(['tweet_text', 'emotion_in_tweet_is_directed_at',\n",
       "       'is_there_an_emotion_directed_at_a_brand_or_product'],\n",
       "      dtype='object')"
      ]
     },
     "execution_count": 320,
     "metadata": {},
     "output_type": "execute_result"
    }
   ],
   "source": [
    "data.columns"
   ]
  },
  {
   "cell_type": "code",
   "execution_count": 321,
   "id": "1bd353d6",
   "metadata": {},
   "outputs": [],
   "source": [
    "names = {'emotion_in_tweet_is_directed_at': 'Product',\n",
    "        'is_there_an_emotion_directed_at_a_brand_or_product': 'Emotion'}"
   ]
  },
  {
   "cell_type": "code",
   "execution_count": 322,
   "id": "681cc4c0",
   "metadata": {},
   "outputs": [],
   "source": [
    "data.rename(columns=names,\n",
    "          inplace=True)"
   ]
  },
  {
   "cell_type": "markdown",
   "id": "715ccc7b",
   "metadata": {},
   "source": [
    "Now I can take a look at the breakdown of products and emotions in the dataframe."
   ]
  },
  {
   "cell_type": "code",
   "execution_count": 290,
   "id": "5b5f884a",
   "metadata": {},
   "outputs": [
    {
     "data": {
      "text/plain": [
       "iPad                               0.287451\n",
       "Apple                              0.200851\n",
       "iPad or iPhone App                 0.142814\n",
       "Google                             0.130659\n",
       "iPhone                             0.090246\n",
       "Other Google product or service    0.089031\n",
       "Android App                        0.024613\n",
       "Android                            0.023701\n",
       "Other Apple product or service     0.010635\n",
       "Name: Product, dtype: float64"
      ]
     },
     "execution_count": 290,
     "metadata": {},
     "output_type": "execute_result"
    }
   ],
   "source": [
    "data['Product'].value_counts(normalize=True)"
   ]
  },
  {
   "cell_type": "markdown",
   "id": "c4faaf9d",
   "metadata": {},
   "source": [
    "Maybe some decisions will have to be made about the products, as there is overlap in the sentiment direction of the products."
   ]
  },
  {
   "cell_type": "code",
   "execution_count": 291,
   "id": "b5a3508d",
   "metadata": {},
   "outputs": [],
   "source": [
    "import matplotlib.pyplot as plt"
   ]
  },
  {
   "cell_type": "markdown",
   "id": "cc729fab",
   "metadata": {},
   "source": [
    "### Target Breakdown"
   ]
  },
  {
   "cell_type": "code",
   "execution_count": 292,
   "id": "3aef75f8",
   "metadata": {},
   "outputs": [
    {
     "data": {
      "image/png": "[encoded data removed]",
      "text/plain": [
       "<Figure size 504x288 with 1 Axes>"
      ]
     },
     "metadata": {},
     "output_type": "display_data"
    }
   ],
   "source": [
    "plt.style.use('fivethirtyeight')\n",
    "plt.figure(figsize=(7,4))\n",
    "data['Product'].value_counts(normalize=True).plot.barh()\n",
    "plt.xticks(rotation = 83);"
   ]
  },
  {
   "cell_type": "markdown",
   "id": "2aa07b74",
   "metadata": {},
   "source": [
    "The reviews skew towards Apple Products, but that shouldn't affect the model terribly, unless there is difference in how people tweet about Apple vs Google Products....Hmmm maybe they do?"
   ]
  },
  {
   "cell_type": "code",
   "execution_count": 293,
   "id": "26e20b60",
   "metadata": {},
   "outputs": [
    {
     "data": {
      "text/plain": [
       "No emotion toward brand or product    0.592654\n",
       "Positive emotion                      0.327505\n",
       "Negative emotion                      0.062686\n",
       "I can't tell                          0.017156\n",
       "Name: Emotion, dtype: float64"
      ]
     },
     "execution_count": 293,
     "metadata": {},
     "output_type": "execute_result"
    }
   ],
   "source": [
    "data['Emotion'].value_counts(normalize=True)"
   ]
  },
  {
   "cell_type": "code",
   "execution_count": 294,
   "id": "7ac3ba09",
   "metadata": {},
   "outputs": [
    {
     "data": {
      "text/plain": [
       "<AxesSubplot:>"
      ]
     },
     "execution_count": 294,
     "metadata": {},
     "output_type": "execute_result"
    },
    {
     "data": {
      "image/png": "[encoded data removed]",
      "text/plain": [
       "<Figure size 432x288 with 1 Axes>"
      ]
     },
     "metadata": {},
     "output_type": "display_data"
    }
   ],
   "source": [
    "data['Emotion'].value_counts(normalize=True).plot.barh()"
   ]
  },
  {
   "cell_type": "markdown",
   "id": "3a81f0ea",
   "metadata": {},
   "source": [
    "Overwhelming the dataset's targets show a neutral sentiment towards the products they are talking about. It will be worth taking an eyeball look at what constitutes the sentiment, but it terms of model metrics we have a dataset that shows way more positive cases than negative cases - an unbalanced dataset which will have to be accounted for in the modeling process."
   ]
  },
  {
   "cell_type": "markdown",
   "id": "e3fd5aee",
   "metadata": {},
   "source": [
    "### Tweet Examples "
   ]
  },
  {
   "cell_type": "code",
   "execution_count": 276,
   "id": "8430c9aa",
   "metadata": {},
   "outputs": [],
   "source": [
    "poz_samples = data[data['Emotion']=='Positive emotion'].sample(n=10,random_state=1)"
   ]
  },
  {
   "cell_type": "code",
   "execution_count": 277,
   "id": "25ee2c9c",
   "metadata": {},
   "outputs": [
    {
     "ename": "TypeError",
     "evalue": "'list' object is not callable",
     "output_type": "error",
     "traceback": [
      "\u001b[0;31m---------------------------------------------------------------------------\u001b[0m",
      "\u001b[0;31mTypeError\u001b[0m                                 Traceback (most recent call last)",
      "Input \u001b[0;32mIn [277]\u001b[0m, in \u001b[0;36m<cell line: 1>\u001b[0;34m()\u001b[0m\n\u001b[0;32m----> 1\u001b[0m index \u001b[38;5;241m=\u001b[39m \u001b[38;5;28;43mlist\u001b[39;49m\u001b[43m(\u001b[49m\u001b[43mpoz_samples\u001b[49m\u001b[38;5;241;43m.\u001b[39;49m\u001b[43mindex\u001b[49m\u001b[43m)\u001b[49m\n",
      "\u001b[0;31mTypeError\u001b[0m: 'list' object is not callable"
     ]
    }
   ],
   "source": [
    "index = list(poz_samples.index)"
   ]
  },
  {
   "cell_type": "code",
   "execution_count": null,
   "id": "75678a76",
   "metadata": {},
   "outputs": [],
   "source": [
    "for x in index:\n",
    "    print(poz_samples['tweet_text'][x])"
   ]
  },
  {
   "cell_type": "code",
   "execution_count": null,
   "id": "b0142a59",
   "metadata": {},
   "outputs": [],
   "source": [
    "neg_samples = data[data['Emotion']=='Negative emotion'].sample(n=10,random_state=1)\n",
    "index = list(neg_samples.index)\n",
    "for x in index:\n",
    "    print(neg_samples['tweet_text'][x])"
   ]
  },
  {
   "cell_type": "markdown",
   "id": "74a0ec65",
   "metadata": {},
   "source": [
    "I will say a glance looking at some of these tweets reveals some problem with the labeling of the sentiment. Some of the tweets that are labeled negative about a specific product are not actually targeting the product in question, but rather a situation or person.\n",
    "\n",
    "Maybe any press is bad press! So it's helpful to see the light that the products are being talked about even if it's not that product being targeted specifically. "
   ]
  },
  {
   "cell_type": "code",
   "execution_count": null,
   "id": "194503b4",
   "metadata": {},
   "outputs": [],
   "source": [
    "neutral_samples = data[data['Emotion']=='No emotion toward brand or product'].sample(n=10,random_state=1)\n",
    "index = list(neutral_samples.index)\n",
    "for x in index:\n",
    "    print(neutral_samples['tweet_text'][x])"
   ]
  },
  {
   "cell_type": "markdown",
   "id": "6967468b",
   "metadata": {},
   "source": [
    "This is a helpful look at the Tweets, some of these samples have some problem characters and words that are going to need to removed from the dataset like odd characters that are encoded incorrectly. There are also plenty of hashtags in the dataset which I will need to contemplate removing from the dataset "
   ]
  },
  {
   "cell_type": "code",
   "execution_count": null,
   "id": "30ee483e",
   "metadata": {},
   "outputs": [],
   "source": [
    "unclear_samples = data[data['Emotion']==\"I can't tell\"].sample(n=10,random_state=1)\n",
    "index = list(unclear_samples.index)\n",
    "for x in index:\n",
    "    print(unclear_samples['tweet_text'][x])"
   ]
  },
  {
   "cell_type": "markdown",
   "id": "3248f790",
   "metadata": {},
   "source": [
    "It's once again helpful to look at these random samples as I see there are some Tweets that are not in English, some Tweets that are not labeled correctly, but that's not something to worry about at this step, as the primary goal is to try to use the labels for validation and testing of this dataset."
   ]
  },
  {
   "cell_type": "markdown",
   "id": "4e91adc9",
   "metadata": {},
   "source": [
    "### Sentiment by Product"
   ]
  },
  {
   "cell_type": "code",
   "execution_count": null,
   "id": "070ccc2e",
   "metadata": {},
   "outputs": [],
   "source": [
    "data.groupby('Product')['Emotion'].value_counts(normalize=True, sort=False).unstack(1).sort_index(axis=1, ascending=True).plot.barh(stacked=True)"
   ]
  },
  {
   "cell_type": "markdown",
   "id": "8c3a3b36",
   "metadata": {},
   "source": [
    "A look at a groupby with normalized value counts for the sentiment anlysis of the dataset shows bit of a surprise (to me at least) that iPhone has the highest negative emotion and lowest positive emotion. It is important to remember there are many more examples of iPhones in the Dataset, so it may be valueable to run a statistical test for understanding the validity here, but it is still noteworthy."
   ]
  },
  {
   "cell_type": "code",
   "execution_count": null,
   "id": "925c8335",
   "metadata": {},
   "outputs": [],
   "source": [
    "data.groupby('Product').Emotion.value_counts(normalize=True).unstack(1).plot.barh(figsize=(8,6))\n"
   ]
  },
  {
   "cell_type": "markdown",
   "id": "c191217c",
   "metadata": {},
   "source": [
    "## Preprocessing"
   ]
  },
  {
   "cell_type": "markdown",
   "id": "b81332a4",
   "metadata": {},
   "source": [
    "### Removing Null Values"
   ]
  },
  {
   "cell_type": "code",
   "execution_count": 323,
   "id": "8e51a84d",
   "metadata": {},
   "outputs": [
    {
     "data": {
      "text/plain": [
       "tweet_text       1\n",
       "Product       5802\n",
       "Emotion          0\n",
       "dtype: int64"
      ]
     },
     "execution_count": 323,
     "metadata": {},
     "output_type": "execute_result"
    }
   ],
   "source": [
    "np.sum(data.isna())"
   ]
  },
  {
   "cell_type": "markdown",
   "id": "cdf7dc86",
   "metadata": {},
   "source": [
    "The dataset unfortuneatly features many null values in the product column. This is unfortunate as it makes up over half the dataset.  "
   ]
  },
  {
   "cell_type": "code",
   "execution_count": 327,
   "id": "d9523fad",
   "metadata": {},
   "outputs": [
    {
     "data": {
      "text/plain": [
       "No emotion toward brand or product    0.913133\n",
       "Positive emotion                      0.052740\n",
       "I can't tell                          0.025336\n",
       "Negative emotion                      0.008790\n",
       "Name: Emotion, dtype: float64"
      ]
     },
     "execution_count": 327,
     "metadata": {},
     "output_type": "execute_result"
    }
   ],
   "source": [
    "data[data['Product'].isna()]['Emotion'].value_counts(normalize=True)"
   ]
  },
  {
   "cell_type": "code",
   "execution_count": 328,
   "id": "4b9f421f",
   "metadata": {},
   "outputs": [
    {
     "data": {
      "text/plain": [
       "No emotion toward brand or product    0.592654\n",
       "Positive emotion                      0.327505\n",
       "Negative emotion                      0.062686\n",
       "I can't tell                          0.017156\n",
       "Name: Emotion, dtype: float64"
      ]
     },
     "execution_count": 328,
     "metadata": {},
     "output_type": "execute_result"
    }
   ],
   "source": [
    "data['Emotion'].value_counts(normalize=True)"
   ]
  },
  {
   "cell_type": "code",
   "execution_count": 329,
   "id": "1d2ea4d3",
   "metadata": {},
   "outputs": [
    {
     "data": {
      "text/plain": [
       "['iPad',\n",
       " 'Apple',\n",
       " 'iPad or iPhone App',\n",
       " 'Google',\n",
       " 'iPhone',\n",
       " 'Other Google product or service',\n",
       " 'Android App',\n",
       " 'Android']"
      ]
     },
     "execution_count": 329,
     "metadata": {},
     "output_type": "execute_result"
    }
   ],
   "source": [
    "product_words"
   ]
  },
  {
   "cell_type": "markdown",
   "id": "8acb54a0",
   "metadata": {},
   "source": [
    "Looking at the sentiment of the Products that we have values for versus the column without values shows a very different picture. I could impute the products for the Product column and attempt to create a more observations for training. "
   ]
  },
  {
   "cell_type": "code",
   "execution_count": 392,
   "id": "97128b91",
   "metadata": {},
   "outputs": [],
   "source": [
    "na_mask = data['Product'].isna().copy()"
   ]
  },
  {
   "cell_type": "code",
   "execution_count": null,
   "id": "aa52c442",
   "metadata": {},
   "outputs": [],
   "source": [
    "frame['matched_str'] = frame['a'].apply(lambda x: pattern_searcher(search_str=x, search_list=pattern))\n"
   ]
  },
  {
   "cell_type": "code",
   "execution_count": 339,
   "id": "bce587de",
   "metadata": {},
   "outputs": [],
   "source": [
    "\n",
    "pattern = '|'.join(product_words)"
   ]
  },
  {
   "cell_type": "code",
   "execution_count": 336,
   "id": "1536b240",
   "metadata": {},
   "outputs": [],
   "source": [
    "def pattern_searcher(search_str:str, search_list:str):\n",
    "\n",
    "    search_obj = re.search(search_list, search_str)\n",
    "    if search_obj :\n",
    "        return_str = search_str[search_obj.start(): search_obj.end()]\n",
    "    else:\n",
    "        return_str = 'NA'\n",
    "    return return_str"
   ]
  },
  {
   "cell_type": "code",
   "execution_count": 353,
   "id": "01413a41",
   "metadata": {},
   "outputs": [
    {
     "data": {
      "text/plain": [
       "5       @teachntech00 New iPad Apps For #SpeechTherapy...\n",
       "6                                                     NaN\n",
       "16      Holler Gram for iPad on the iTunes App Store -...\n",
       "32      Attn: All  #SXSW frineds, @mention Register fo...\n",
       "33          Anyone at  #sxsw want to sell their old iPad?\n",
       "                              ...                        \n",
       "9087    @mention Yup, but I don't have a third app yet...\n",
       "9089    Wave, buzz... RT @mention We interrupt your re...\n",
       "9090    Google's Zeiger, a physician never reported po...\n",
       "9091    Some Verizon iPhone customers complained their...\n",
       "9092    Ï¡Ïàü_ÊÎÒ£Áââ_£â_ÛâRT @...\n",
       "Name: tweet_text, Length: 5802, dtype: object"
      ]
     },
     "execution_count": 353,
     "metadata": {},
     "output_type": "execute_result"
    }
   ],
   "source": [
    "data[na_mask]['tweet_text']"
   ]
  },
  {
   "cell_type": "code",
   "execution_count": 343,
   "id": "88f63573",
   "metadata": {},
   "outputs": [
    {
     "data": {
      "text/plain": [
       "'iPad|Apple|iPad or iPhone App|Google|iPhone|Other Google product or service|Android App|Android'"
      ]
     },
     "execution_count": 343,
     "metadata": {},
     "output_type": "execute_result"
    }
   ],
   "source": [
    "pattern"
   ]
  },
  {
   "cell_type": "code",
   "execution_count": 360,
   "id": "ee075dc1",
   "metadata": {},
   "outputs": [
    {
     "name": "stderr",
     "output_type": "stream",
     "text": [
      "/var/folders/33/zzhwcx3s0n97jltxvr3t2hjr0000gn/T/ipykernel_32653/4223934571.py:1: SettingWithCopyWarning: \n",
      "A value is trying to be set on a copy of a slice from a DataFrame.\n",
      "Try using .loc[row_indexer,col_indexer] = value instead\n",
      "\n",
      "See the caveats in the documentation: https://pandas.pydata.org/pandas-docs/stable/user_guide/indexing.html#returning-a-view-versus-a-copy\n",
      "  data[na_mask]['test']= [x if x in product_words else np.NaN for x in data[na_mask]['tweet_text'].copy()]\n"
     ]
    }
   ],
   "source": [
    "data[na_mask]['test']= [x if x in product_words else np.NaN for x in data[na_mask]['tweet_text'].copy()]\n"
   ]
  },
  {
   "cell_type": "code",
   "execution_count": null,
   "id": "9546f911",
   "metadata": {},
   "outputs": [],
   "source": [
    "x for x in products words "
   ]
  },
  {
   "cell_type": "code",
   "execution_count": 363,
   "id": "f6674879",
   "metadata": {},
   "outputs": [
    {
     "data": {
      "text/plain": [
       "5       NaN\n",
       "6       NaN\n",
       "16      NaN\n",
       "32      NaN\n",
       "33      NaN\n",
       "       ... \n",
       "9087    NaN\n",
       "9089    NaN\n",
       "9090    NaN\n",
       "9091    NaN\n",
       "9092    NaN\n",
       "Name: tweet_text, Length: 5802, dtype: object"
      ]
     },
     "execution_count": 363,
     "metadata": {},
     "output_type": "execute_result"
    }
   ],
   "source": [
    "data[na_mask]['tweet_text'].where(data['tweet_text'].isin(product_words))"
   ]
  },
  {
   "cell_type": "code",
   "execution_count": 375,
   "id": "85d6c7ef",
   "metadata": {},
   "outputs": [
    {
     "name": "stdout",
     "output_type": "stream",
     "text": [
      "iPad 1297\n",
      "Apple 1020\n",
      "iPad or iPhone App 0\n",
      "Google 1463\n",
      "iPhone 784\n",
      "Other Google product or service 0\n",
      "Android App 13\n",
      "Android 294\n"
     ]
    }
   ],
   "source": [
    "for word in product_words:\n",
    "    print(word,np.sum(data[na_mask]['tweet_text'].str.contains(word)))"
   ]
  },
  {
   "cell_type": "code",
   "execution_count": 377,
   "id": "e43c135c",
   "metadata": {},
   "outputs": [
    {
     "data": {
      "text/plain": [
       "9093"
      ]
     },
     "metadata": {},
     "output_type": "display_data"
    },
    {
     "data": {
      "text/plain": [
       "5802"
      ]
     },
     "metadata": {},
     "output_type": "display_data"
    }
   ],
   "source": [
    "display(len(data),len(data[na_mask]))"
   ]
  },
  {
   "cell_type": "markdown",
   "id": "2b5518ee",
   "metadata": {},
   "source": [
    "There are 5802 observations in this data set where the Product column is null. Of those 1297 contain iPad, 1020 Apple, 0 contain Ipad or iPhone App, 1463 contain Google, and 784 contain iPhone. Android or Android app is contained in 294 and 13 observations respectively. "
   ]
  },
  {
   "cell_type": "code",
   "execution_count": 384,
   "id": "6e87c81f",
   "metadata": {},
   "outputs": [],
   "source": [
    "data.drop(6,inplace=True)"
   ]
  },
  {
   "cell_type": "code",
   "execution_count": 397,
   "id": "4c3a2f4b",
   "metadata": {},
   "outputs": [],
   "source": [
    "pd.set_option('display.max_colwidth', 0)"
   ]
  },
  {
   "cell_type": "code",
   "execution_count": 400,
   "id": "8b4af75c",
   "metadata": {},
   "outputs": [
    {
     "data": {
      "text/html": [
       "<div>\n",
       "<style scoped>\n",
       "    .dataframe tbody tr th:only-of-type {\n",
       "        vertical-align: middle;\n",
       "    }\n",
       "\n",
       "    .dataframe tbody tr th {\n",
       "        vertical-align: top;\n",
       "    }\n",
       "\n",
       "    .dataframe thead th {\n",
       "        text-align: right;\n",
       "    }\n",
       "</style>\n",
       "<table border=\"1\" class=\"dataframe\">\n",
       "  <thead>\n",
       "    <tr style=\"text-align: right;\">\n",
       "      <th></th>\n",
       "      <th>tweet_text</th>\n",
       "      <th>Product</th>\n",
       "      <th>Emotion</th>\n",
       "    </tr>\n",
       "  </thead>\n",
       "  <tbody>\n",
       "    <tr>\n",
       "      <th>32</th>\n",
       "      <td>Attn: All  #SXSW frineds, @mention Register for #GDGTLive  and see Cobra iRadar for Android. {link}</td>\n",
       "      <td>NaN</td>\n",
       "      <td>No emotion toward brand or product</td>\n",
       "    </tr>\n",
       "    <tr>\n",
       "      <th>41</th>\n",
       "      <td>HootSuite - HootSuite Mobile for #SXSW ~ Updates for iPhone, BlackBerry &amp;amp; Android: Whether youÛªre getting friend... {link}</td>\n",
       "      <td>NaN</td>\n",
       "      <td>No emotion toward brand or product</td>\n",
       "    </tr>\n",
       "    <tr>\n",
       "      <th>68</th>\n",
       "      <td>Boooo! RT @mention Flipboard is developing an iPhone version, not Android, says @mention #sxsw</td>\n",
       "      <td>NaN</td>\n",
       "      <td>Negative emotion</td>\n",
       "    </tr>\n",
       "    <tr>\n",
       "      <th>239</th>\n",
       "      <td>Skifta is an app-based media shifting service that turns your Android phone into a ...  #sxsw #mashable #sxswi {link}</td>\n",
       "      <td>NaN</td>\n",
       "      <td>No emotion toward brand or product</td>\n",
       "    </tr>\n",
       "    <tr>\n",
       "      <th>253</th>\n",
       "      <td>Reminder: Android and Chrome TTS talk @mention 1 PM today!  {link}  #sxsw</td>\n",
       "      <td>NaN</td>\n",
       "      <td>No emotion toward brand or product</td>\n",
       "    </tr>\n",
       "    <tr>\n",
       "      <th>254</th>\n",
       "      <td>iPad 2 vs Android vs The World : Panel at #SXSW today 3:30PM by @mention {link}</td>\n",
       "      <td>NaN</td>\n",
       "      <td>No emotion toward brand or product</td>\n",
       "    </tr>\n",
       "    <tr>\n",
       "      <th>309</th>\n",
       "      <td>#Sxsw You are attending SXSW? report what you see with your Android phone, get Bannka app.</td>\n",
       "      <td>NaN</td>\n",
       "      <td>No emotion toward brand or product</td>\n",
       "    </tr>\n",
       "    <tr>\n",
       "      <th>325</th>\n",
       "      <td>If you're at #sxsw, meet our author, and a host of Android devs, Sat. at 12:30pm, Hilton room 615AB.</td>\n",
       "      <td>NaN</td>\n",
       "      <td>No emotion toward brand or product</td>\n",
       "    </tr>\n",
       "    <tr>\n",
       "      <th>376</th>\n",
       "      <td>HootSuite blog ÛÒ Social Media Dashboard åÈ HootSuite Mobile for #SXSW ~ Updates for iPhone, BlackBerry &amp;amp; Android\\n{link}</td>\n",
       "      <td>NaN</td>\n",
       "      <td>No emotion toward brand or product</td>\n",
       "    </tr>\n",
       "    <tr>\n",
       "      <th>377</th>\n",
       "      <td>HootSuite blog ÛÒ Social Media Dashboard åÈ HootSuite Mobile for #SXSW ~ Updates for iPhone, BlackBerry &amp;amp; Android {link}</td>\n",
       "      <td>NaN</td>\n",
       "      <td>No emotion toward brand or product</td>\n",
       "    </tr>\n",
       "    <tr>\n",
       "      <th>378</th>\n",
       "      <td>Hoot! New Blog post: HootSuite Mobile for #SXSW ~ Updates for iPhone, BlackBerry &amp;amp; Android {link}</td>\n",
       "      <td>NaN</td>\n",
       "      <td>No emotion toward brand or product</td>\n",
       "    </tr>\n",
       "    <tr>\n",
       "      <th>391</th>\n",
       "      <td>Reminder: Charles Chen will be talking about Android and ChromeOS access today @mention 1PM @mention the Google booth in Exhibit Hall 3. #sxsw</td>\n",
       "      <td>NaN</td>\n",
       "      <td>No emotion toward brand or product</td>\n",
       "    </tr>\n",
       "    <tr>\n",
       "      <th>392</th>\n",
       "      <td>Tomorrow, Charles Chen will be speaking about Android and ChromeOS access @mention the Google booth in Exhibit Hall 3 @mention 1PM #sxsw</td>\n",
       "      <td>NaN</td>\n",
       "      <td>No emotion toward brand or product</td>\n",
       "    </tr>\n",
       "    <tr>\n",
       "      <th>393</th>\n",
       "      <td>RE: group chat apps for #SXSW, now been told to d/l two more apps (not yet avail on Android). This point, I'll need phone JUST for apps.</td>\n",
       "      <td>NaN</td>\n",
       "      <td>No emotion toward brand or product</td>\n",
       "    </tr>\n",
       "    <tr>\n",
       "      <th>432</th>\n",
       "      <td>Check out Designing for Android at SXSW.\\n{link} #SXSW #UXAmandroid</td>\n",
       "      <td>NaN</td>\n",
       "      <td>No emotion toward brand or product</td>\n",
       "    </tr>\n",
       "    <tr>\n",
       "      <th>543</th>\n",
       "      <td>#at&amp;amp;t giving away amazing prizes..iPhone, Android, kindle, tablets...amazing. happening now at the Sheraton.#SXSW.</td>\n",
       "      <td>NaN</td>\n",
       "      <td>No emotion toward brand or product</td>\n",
       "    </tr>\n",
       "    <tr>\n",
       "      <th>621</th>\n",
       "      <td>ÛÏ@mention Hey Austin, know a little about #iPhone or #Android, love music &amp;amp; wanna make $20/hour during #SXSW?  Please let me know.Û</td>\n",
       "      <td>NaN</td>\n",
       "      <td>No emotion toward brand or product</td>\n",
       "    </tr>\n",
       "    <tr>\n",
       "      <th>705</th>\n",
       "      <td>Forgot my iPhone for #sxsw. Android only. Knife to a gun fight</td>\n",
       "      <td>NaN</td>\n",
       "      <td>I can't tell</td>\n",
       "    </tr>\n",
       "    <tr>\n",
       "      <th>716</th>\n",
       "      <td>#hashable is rocking @mention #SXSW the new &amp;quot;cloud&amp;quot; of Business Cards. No for #iPhone and #Android too</td>\n",
       "      <td>NaN</td>\n",
       "      <td>No emotion toward brand or product</td>\n",
       "    </tr>\n",
       "    <tr>\n",
       "      <th>834</th>\n",
       "      <td>Check out Lightbox.com at the Team Android Choice Awards finalists announced at #sxsw @mention and team rock!</td>\n",
       "      <td>NaN</td>\n",
       "      <td>No emotion toward brand or product</td>\n",
       "    </tr>\n",
       "    <tr>\n",
       "      <th>888</th>\n",
       "      <td>HootSuite Mobile for #SXSW ~ Updates for iPhone, BlackBerry &amp;amp; Android {link}</td>\n",
       "      <td>NaN</td>\n",
       "      <td>No emotion toward brand or product</td>\n",
       "    </tr>\n",
       "    <tr>\n",
       "      <th>889</th>\n",
       "      <td>HootSuite Mobile for #SXSW ~ Updates for iPhone, BlackBerry &amp;amp; Android {link} (via @mention</td>\n",
       "      <td>NaN</td>\n",
       "      <td>No emotion toward brand or product</td>\n",
       "    </tr>\n",
       "    <tr>\n",
       "      <th>890</th>\n",
       "      <td>HootSuite Mobile for #SXSW ~ Updates for iPhone, BlackBerry &amp;amp; Android {link} #Android #BlackBerry #Keitai</td>\n",
       "      <td>NaN</td>\n",
       "      <td>No emotion toward brand or product</td>\n",
       "    </tr>\n",
       "    <tr>\n",
       "      <th>891</th>\n",
       "      <td>HootSuite Mobile for #SXSW ~ Updates for iPhone, BlackBerry &amp;amp; Android {link} #hootsuite</td>\n",
       "      <td>NaN</td>\n",
       "      <td>No emotion toward brand or product</td>\n",
       "    </tr>\n",
       "    <tr>\n",
       "      <th>892</th>\n",
       "      <td>HootSuite Mobile for #SXSW ~ Updates for iPhone, BlackBerry &amp;amp; Android {link} via @mention</td>\n",
       "      <td>NaN</td>\n",
       "      <td>No emotion toward brand or product</td>\n",
       "    </tr>\n",
       "    <tr>\n",
       "      <th>893</th>\n",
       "      <td>HootSuite Mobile for #SXSW ~ Updates for iPhone, BlackBerry &amp;amp; Android: Shared by PaulÛ_ {link} #shared</td>\n",
       "      <td>NaN</td>\n",
       "      <td>No emotion toward brand or product</td>\n",
       "    </tr>\n",
       "    <tr>\n",
       "      <th>894</th>\n",
       "      <td>HootSuite Mobile for #SXSW ~ Updates for iPhone, BlackBerry &amp;amp; Android: Whether youÛªre getting friendly down at S... {link}</td>\n",
       "      <td>NaN</td>\n",
       "      <td>No emotion toward brand or product</td>\n",
       "    </tr>\n",
       "    <tr>\n",
       "      <th>921</th>\n",
       "      <td>HootSuite News: HootSuite Mobile for #SXSW ~ Updates for iPhone, BlackBerry &amp;amp; Android {link}</td>\n",
       "      <td>NaN</td>\n",
       "      <td>No emotion toward brand or product</td>\n",
       "    </tr>\n",
       "    <tr>\n",
       "      <th>937</th>\n",
       "      <td>.@mention of @mention &amp;quot;We were getting feedback from #SXSW groups &amp;amp; we pushed out an Android fix at the grilled cheese stand yesterday.&amp;quot;</td>\n",
       "      <td>NaN</td>\n",
       "      <td>No emotion toward brand or product</td>\n",
       "    </tr>\n",
       "    <tr>\n",
       "      <th>962</th>\n",
       "      <td>It's also on Android. :) RT @mention Foodspotting's hit iPhone app finds the foods you crave {link}  #cnnmoneysxsw #sxsw</td>\n",
       "      <td>NaN</td>\n",
       "      <td>Positive emotion</td>\n",
       "    </tr>\n",
       "    <tr>\n",
       "      <th>1003</th>\n",
       "      <td>mashable: Platform for Concertgoers Launches Android App in Time for SXSW - {link} #sxsw {link}</td>\n",
       "      <td>NaN</td>\n",
       "      <td>No emotion toward brand or product</td>\n",
       "    </tr>\n",
       "    <tr>\n",
       "      <th>1018</th>\n",
       "      <td>Panels on PR, cloud computing, Android design, iPhone design today. Hope to redeem my panel experience in one fell swoop #sxsw</td>\n",
       "      <td>NaN</td>\n",
       "      <td>No emotion toward brand or product</td>\n",
       "    </tr>\n",
       "    <tr>\n",
       "      <th>1074</th>\n",
       "      <td>Expect to see several NFC  trials this yr, Google &amp;amp; Android working w/ @mention #virtualwallet #digitalID #sxsw</td>\n",
       "      <td>NaN</td>\n",
       "      <td>No emotion toward brand or product</td>\n",
       "    </tr>\n",
       "    <tr>\n",
       "      <th>1076</th>\n",
       "      <td>*Spark is selected as a finalist in Team Android Choice awards! If you're in Austin 3/13, please come &amp;amp; support {link} #sxsw</td>\n",
       "      <td>NaN</td>\n",
       "      <td>No emotion toward brand or product</td>\n",
       "    </tr>\n",
       "    <tr>\n",
       "      <th>1121</th>\n",
       "      <td>Catch our talk on Text-To-Speech for Android &amp;amp; Chrome at The League of Extraordinary Hackers. {link} #SXSW</td>\n",
       "      <td>NaN</td>\n",
       "      <td>No emotion toward brand or product</td>\n",
       "    </tr>\n",
       "    <tr>\n",
       "      <th>1123</th>\n",
       "      <td>.@mention Team Android at #SXSW party details {link} &amp;lt;---Note video of @mention showing how close Rainey St is to ACC</td>\n",
       "      <td>NaN</td>\n",
       "      <td>No emotion toward brand or product</td>\n",
       "    </tr>\n",
       "    <tr>\n",
       "      <th>1147</th>\n",
       "      <td>So what's the best #SXSW Mobile App (Android!) App to make the panel and party agenda. Offline use get a +</td>\n",
       "      <td>NaN</td>\n",
       "      <td>No emotion toward brand or product</td>\n",
       "    </tr>\n",
       "    <tr>\n",
       "      <th>1151</th>\n",
       "      <td>Goals for the day:  Knock out Government talks, Install Android SDK,  &amp;amp; pray that the #Sencha/#PhoneGap workshop does #Android too #SXSW</td>\n",
       "      <td>NaN</td>\n",
       "      <td>No emotion toward brand or product</td>\n",
       "    </tr>\n",
       "    <tr>\n",
       "      <th>1168</th>\n",
       "      <td>Check out the new app for Android launched at #SXSW, PLAY by Aol Music, essentially Instagram For Music. {link}</td>\n",
       "      <td>NaN</td>\n",
       "      <td>No emotion toward brand or product</td>\n",
       "    </tr>\n",
       "    <tr>\n",
       "      <th>1264</th>\n",
       "      <td>Available today, @mention mobile apps for #iPhone #Android #Blackberry and #windowsmobile w/ Facebook. More info: {link} #SXSW</td>\n",
       "      <td>NaN</td>\n",
       "      <td>No emotion toward brand or product</td>\n",
       "    </tr>\n",
       "    <tr>\n",
       "      <th>1296</th>\n",
       "      <td>My ipad 2 vs Android panel starts at 330 at Radisson. Bloody Mary starts now! #SXSW</td>\n",
       "      <td>NaN</td>\n",
       "      <td>No emotion toward brand or product</td>\n",
       "    </tr>\n",
       "    <tr>\n",
       "      <th>1331</th>\n",
       "      <td>#sxsw-ers with an Android jones: What are you doing Saturday, 1:30-2:30pm? How about attending an Android Developer meetup? Details to come.</td>\n",
       "      <td>NaN</td>\n",
       "      <td>No emotion toward brand or product</td>\n",
       "    </tr>\n",
       "    <tr>\n",
       "      <th>1385</th>\n",
       "      <td>Conan doc, CDR Radio, Android party, NPR shindig, general raging. Pretty sure I'm doing #SXSW proper. It is a sprint, not a marathon, right?</td>\n",
       "      <td>NaN</td>\n",
       "      <td>No emotion toward brand or product</td>\n",
       "    </tr>\n",
       "    <tr>\n",
       "      <th>1419</th>\n",
       "      <td>Game plan: Free food at Pepsi, Convention Center, Burner Party, Android party at Luster Pearl .. and all that happens between #sxsw</td>\n",
       "      <td>NaN</td>\n",
       "      <td>No emotion toward brand or product</td>\n",
       "    </tr>\n",
       "    <tr>\n",
       "      <th>1533</th>\n",
       "      <td>Get (down)loaded Hoot! - RT #HootSuite Mobile for #SXSW ~ Updates for iPhone, BlackBerry &amp;amp; Android {link}</td>\n",
       "      <td>NaN</td>\n",
       "      <td>Positive emotion</td>\n",
       "    </tr>\n",
       "    <tr>\n",
       "      <th>1545</th>\n",
       "      <td>@mention @mention @mention #Platformer CI di venues #SXSW pake 3 app 4sq API,D cnth : Tweetdeck etc (via : iPhone, Android, iPad and PC)</td>\n",
       "      <td>NaN</td>\n",
       "      <td>I can't tell</td>\n",
       "    </tr>\n",
       "    <tr>\n",
       "      <th>1585</th>\n",
       "      <td>@mention @mention finishing up beta on Android &amp;amp; iPhone Sunday; couple guys at #SXSW showing off; got about 20 beta moms ready 2 beta</td>\n",
       "      <td>NaN</td>\n",
       "      <td>No emotion toward brand or product</td>\n",
       "    </tr>\n",
       "    <tr>\n",
       "      <th>1591</th>\n",
       "      <td>Nice! RT @mention Getting ready for my iPad 2 vs Android panel at #SXSW come check it out at 230!</td>\n",
       "      <td>NaN</td>\n",
       "      <td>No emotion toward brand or product</td>\n",
       "    </tr>\n",
       "    <tr>\n",
       "      <th>1627</th>\n",
       "      <td>@mention @mention send over early app access for iOS or Android, be glad to be on the QA team to help out #sxsw</td>\n",
       "      <td>NaN</td>\n",
       "      <td>No emotion toward brand or product</td>\n",
       "    </tr>\n",
       "    <tr>\n",
       "      <th>1693</th>\n",
       "      <td>Lightbox #Photos Wants To Be Your New #Android #Camera #App (#SXSW) {link}</td>\n",
       "      <td>NaN</td>\n",
       "      <td>No emotion toward brand or product</td>\n",
       "    </tr>\n",
       "    <tr>\n",
       "      <th>1750</th>\n",
       "      <td>@mention #webmobile talking about #mVideo. Talked about iPhone and Android video but what about the other 85% of phones? #SXSW</td>\n",
       "      <td>NaN</td>\n",
       "      <td>No emotion toward brand or product</td>\n",
       "    </tr>\n",
       "    <tr>\n",
       "      <th>1766</th>\n",
       "      <td>#SXSW 2011: Demo Of Samsung TV Controlled By #Android Phone {link}</td>\n",
       "      <td>NaN</td>\n",
       "      <td>No emotion toward brand or product</td>\n",
       "    </tr>\n",
       "    <tr>\n",
       "      <th>1803</th>\n",
       "      <td>The new #4sq3 looks like it is going to rock. Update for iPhone and Android should push tonight {link} #SXSW #KeepAustinWeird</td>\n",
       "      <td>NaN</td>\n",
       "      <td>Positive emotion</td>\n",
       "    </tr>\n",
       "    <tr>\n",
       "      <th>1814</th>\n",
       "      <td>Building a custom Android home screen for #sxsw #SXSWi stuff. Any other must haves? {link}</td>\n",
       "      <td>NaN</td>\n",
       "      <td>No emotion toward brand or product</td>\n",
       "    </tr>\n",
       "    <tr>\n",
       "      <th>1863</th>\n",
       "      <td>Learning about using HTML5 across multiple devices by looking at freebeernear.me on the Web, Android, OSX and iPhone #hack5 #sxsw #donline</td>\n",
       "      <td>NaN</td>\n",
       "      <td>No emotion toward brand or product</td>\n",
       "    </tr>\n",
       "    <tr>\n",
       "      <th>1911</th>\n",
       "      <td>@mention ahoy! let your readers know we'll keep em updated #sxsw parties w/ #eventseekr. Android: {link} iPhone app on way</td>\n",
       "      <td>NaN</td>\n",
       "      <td>No emotion toward brand or product</td>\n",
       "    </tr>\n",
       "    <tr>\n",
       "      <th>1932</th>\n",
       "      <td>Samsung Galaxy S II Appears At FCC And Team Android #SXSW Party åÈ Android Phones, Android Tablets, News, Tech, Gad.. \\n{link}</td>\n",
       "      <td>NaN</td>\n",
       "      <td>No emotion toward brand or product</td>\n",
       "    </tr>\n",
       "    <tr>\n",
       "      <th>1933</th>\n",
       "      <td>Samsung Galaxy S II Appears At FCC And Team Android #SXSW Party {link} via @mention</td>\n",
       "      <td>NaN</td>\n",
       "      <td>No emotion toward brand or product</td>\n",
       "    </tr>\n",
       "    <tr>\n",
       "      <th>1950</th>\n",
       "      <td>@mention also check out @mention for #Android &amp;amp; web. Has group chat, whiteboarding, location &amp;amp; image sharing, and more. #app #SXSW</td>\n",
       "      <td>NaN</td>\n",
       "      <td>No emotion toward brand or product</td>\n",
       "    </tr>\n",
       "    <tr>\n",
       "      <th>1954</th>\n",
       "      <td>Monthly value of user iOS $9.50. Android $7.20. Utility apps most valuable. #sxswEisner #sxsw</td>\n",
       "      <td>NaN</td>\n",
       "      <td>Positive emotion</td>\n",
       "    </tr>\n",
       "  </tbody>\n",
       "</table>\n",
       "</div>"
      ],
      "text/plain": [
       "                                                                                                                                                  tweet_text  \\\n",
       "32    Attn: All  #SXSW frineds, @mention Register for #GDGTLive  and see Cobra iRadar for Android. {link}                                                      \n",
       "41    HootSuite - HootSuite Mobile for #SXSW ~ Updates for iPhone, BlackBerry &amp; Android: Whether youÛªre getting friend... {link}                         \n",
       "68    Boooo! RT @mention Flipboard is developing an iPhone version, not Android, says @mention #sxsw                                                           \n",
       "239   Skifta is an app-based media shifting service that turns your Android phone into a ...  #sxsw #mashable #sxswi {link}                                    \n",
       "253   Reminder: Android and Chrome TTS talk @mention 1 PM today!  {link}  #sxsw                                                                                \n",
       "254   iPad 2 vs Android vs The World : Panel at #SXSW today 3:30PM by @mention {link}                                                                          \n",
       "309   #Sxsw You are attending SXSW? report what you see with your Android phone, get Bannka app.                                                               \n",
       "325   If you're at #sxsw, meet our author, and a host of Android devs, Sat. at 12:30pm, Hilton room 615AB.                                                     \n",
       "376   HootSuite blog ÛÒ Social Media Dashboard åÈ HootSuite Mobile for #SXSW ~ Updates for iPhone, BlackBerry &amp; Android\\n{link}                           \n",
       "377   HootSuite blog ÛÒ Social Media Dashboard åÈ HootSuite Mobile for #SXSW ~ Updates for iPhone, BlackBerry &amp; Android {link}                            \n",
       "378   Hoot! New Blog post: HootSuite Mobile for #SXSW ~ Updates for iPhone, BlackBerry &amp; Android {link}                                                    \n",
       "391   Reminder: Charles Chen will be talking about Android and ChromeOS access today @mention 1PM @mention the Google booth in Exhibit Hall 3. #sxsw           \n",
       "392   Tomorrow, Charles Chen will be speaking about Android and ChromeOS access @mention the Google booth in Exhibit Hall 3 @mention 1PM #sxsw                 \n",
       "393   RE: group chat apps for #SXSW, now been told to d/l two more apps (not yet avail on Android). This point, I'll need phone JUST for apps.                 \n",
       "432   Check out Designing for Android at SXSW.\\n{link} #SXSW #UXAmandroid                                                                                      \n",
       "543   #at&amp;t giving away amazing prizes..iPhone, Android, kindle, tablets...amazing. happening now at the Sheraton.#SXSW.                                   \n",
       "621   ÛÏ@mention Hey Austin, know a little about #iPhone or #Android, love music &amp; wanna make $20/hour during #SXSW?  Please let me know.Û              \n",
       "705   Forgot my iPhone for #sxsw. Android only. Knife to a gun fight                                                                                           \n",
       "716   #hashable is rocking @mention #SXSW the new &quot;cloud&quot; of Business Cards. No for #iPhone and #Android too                                         \n",
       "834   Check out Lightbox.com at the Team Android Choice Awards finalists announced at #sxsw @mention and team rock!                                            \n",
       "888   HootSuite Mobile for #SXSW ~ Updates for iPhone, BlackBerry &amp; Android {link}                                                                         \n",
       "889   HootSuite Mobile for #SXSW ~ Updates for iPhone, BlackBerry &amp; Android {link} (via @mention                                                           \n",
       "890   HootSuite Mobile for #SXSW ~ Updates for iPhone, BlackBerry &amp; Android {link} #Android #BlackBerry #Keitai                                            \n",
       "891   HootSuite Mobile for #SXSW ~ Updates for iPhone, BlackBerry &amp; Android {link} #hootsuite                                                              \n",
       "892   HootSuite Mobile for #SXSW ~ Updates for iPhone, BlackBerry &amp; Android {link} via @mention                                                            \n",
       "893   HootSuite Mobile for #SXSW ~ Updates for iPhone, BlackBerry &amp; Android: Shared by PaulÛ_ {link} #shared                                              \n",
       "894   HootSuite Mobile for #SXSW ~ Updates for iPhone, BlackBerry &amp; Android: Whether youÛªre getting friendly down at S... {link}                         \n",
       "921   HootSuite News: HootSuite Mobile for #SXSW ~ Updates for iPhone, BlackBerry &amp; Android {link}                                                         \n",
       "937   .@mention of @mention &quot;We were getting feedback from #SXSW groups &amp; we pushed out an Android fix at the grilled cheese stand yesterday.&quot;   \n",
       "962   It's also on Android. :) RT @mention Foodspotting's hit iPhone app finds the foods you crave {link}  #cnnmoneysxsw #sxsw                                 \n",
       "1003  mashable: Platform for Concertgoers Launches Android App in Time for SXSW - {link} #sxsw {link}                                                          \n",
       "1018  Panels on PR, cloud computing, Android design, iPhone design today. Hope to redeem my panel experience in one fell swoop #sxsw                           \n",
       "1074  Expect to see several NFC  trials this yr, Google &amp; Android working w/ @mention #virtualwallet #digitalID #sxsw                                      \n",
       "1076  *Spark is selected as a finalist in Team Android Choice awards! If you're in Austin 3/13, please come &amp; support {link} #sxsw                         \n",
       "1121  Catch our talk on Text-To-Speech for Android &amp; Chrome at The League of Extraordinary Hackers. {link} #SXSW                                           \n",
       "1123  .@mention Team Android at #SXSW party details {link} &lt;---Note video of @mention showing how close Rainey St is to ACC                                 \n",
       "1147  So what's the best #SXSW Mobile App (Android!) App to make the panel and party agenda. Offline use get a +                                               \n",
       "1151  Goals for the day:  Knock out Government talks, Install Android SDK,  &amp; pray that the #Sencha/#PhoneGap workshop does #Android too #SXSW             \n",
       "1168  Check out the new app for Android launched at #SXSW, PLAY by Aol Music, essentially Instagram For Music. {link}                                          \n",
       "1264  Available today, @mention mobile apps for #iPhone #Android #Blackberry and #windowsmobile w/ Facebook. More info: {link} #SXSW                           \n",
       "1296  My ipad 2 vs Android panel starts at 330 at Radisson. Bloody Mary starts now! #SXSW                                                                      \n",
       "1331  #sxsw-ers with an Android jones: What are you doing Saturday, 1:30-2:30pm? How about attending an Android Developer meetup? Details to come.             \n",
       "1385  Conan doc, CDR Radio, Android party, NPR shindig, general raging. Pretty sure I'm doing #SXSW proper. It is a sprint, not a marathon, right?             \n",
       "1419  Game plan: Free food at Pepsi, Convention Center, Burner Party, Android party at Luster Pearl .. and all that happens between #sxsw                      \n",
       "1533  Get (down)loaded Hoot! - RT #HootSuite Mobile for #SXSW ~ Updates for iPhone, BlackBerry &amp; Android {link}                                            \n",
       "1545  @mention @mention @mention #Platformer CI di venues #SXSW pake 3 app 4sq API,D cnth : Tweetdeck etc (via : iPhone, Android, iPad and PC)                 \n",
       "1585  @mention @mention finishing up beta on Android &amp; iPhone Sunday; couple guys at #SXSW showing off; got about 20 beta moms ready 2 beta                \n",
       "1591  Nice! RT @mention Getting ready for my iPad 2 vs Android panel at #SXSW come check it out at 230!                                                        \n",
       "1627  @mention @mention send over early app access for iOS or Android, be glad to be on the QA team to help out #sxsw                                          \n",
       "1693  Lightbox #Photos Wants To Be Your New #Android #Camera #App (#SXSW) {link}                                                                               \n",
       "1750  @mention #webmobile talking about #mVideo. Talked about iPhone and Android video but what about the other 85% of phones? #SXSW                           \n",
       "1766  #SXSW 2011: Demo Of Samsung TV Controlled By #Android Phone {link}                                                                                       \n",
       "1803  The new #4sq3 looks like it is going to rock. Update for iPhone and Android should push tonight {link} #SXSW #KeepAustinWeird                            \n",
       "1814  Building a custom Android home screen for #sxsw #SXSWi stuff. Any other must haves? {link}                                                               \n",
       "1863  Learning about using HTML5 across multiple devices by looking at freebeernear.me on the Web, Android, OSX and iPhone #hack5 #sxsw #donline               \n",
       "1911  @mention ahoy! let your readers know we'll keep em updated #sxsw parties w/ #eventseekr. Android: {link} iPhone app on way                               \n",
       "1932  Samsung Galaxy S II Appears At FCC And Team Android #SXSW Party åÈ Android Phones, Android Tablets, News, Tech, Gad.. \\n{link}                           \n",
       "1933  Samsung Galaxy S II Appears At FCC And Team Android #SXSW Party {link} via @mention                                                                      \n",
       "1950  @mention also check out @mention for #Android &amp; web. Has group chat, whiteboarding, location &amp; image sharing, and more. #app #SXSW               \n",
       "1954  Monthly value of user iOS $9.50. Android $7.20. Utility apps most valuable. #sxswEisner #sxsw                                                            \n",
       "\n",
       "     Product                             Emotion  \n",
       "32    NaN     No emotion toward brand or product  \n",
       "41    NaN     No emotion toward brand or product  \n",
       "68    NaN     Negative emotion                    \n",
       "239   NaN     No emotion toward brand or product  \n",
       "253   NaN     No emotion toward brand or product  \n",
       "254   NaN     No emotion toward brand or product  \n",
       "309   NaN     No emotion toward brand or product  \n",
       "325   NaN     No emotion toward brand or product  \n",
       "376   NaN     No emotion toward brand or product  \n",
       "377   NaN     No emotion toward brand or product  \n",
       "378   NaN     No emotion toward brand or product  \n",
       "391   NaN     No emotion toward brand or product  \n",
       "392   NaN     No emotion toward brand or product  \n",
       "393   NaN     No emotion toward brand or product  \n",
       "432   NaN     No emotion toward brand or product  \n",
       "543   NaN     No emotion toward brand or product  \n",
       "621   NaN     No emotion toward brand or product  \n",
       "705   NaN     I can't tell                        \n",
       "716   NaN     No emotion toward brand or product  \n",
       "834   NaN     No emotion toward brand or product  \n",
       "888   NaN     No emotion toward brand or product  \n",
       "889   NaN     No emotion toward brand or product  \n",
       "890   NaN     No emotion toward brand or product  \n",
       "891   NaN     No emotion toward brand or product  \n",
       "892   NaN     No emotion toward brand or product  \n",
       "893   NaN     No emotion toward brand or product  \n",
       "894   NaN     No emotion toward brand or product  \n",
       "921   NaN     No emotion toward brand or product  \n",
       "937   NaN     No emotion toward brand or product  \n",
       "962   NaN     Positive emotion                    \n",
       "1003  NaN     No emotion toward brand or product  \n",
       "1018  NaN     No emotion toward brand or product  \n",
       "1074  NaN     No emotion toward brand or product  \n",
       "1076  NaN     No emotion toward brand or product  \n",
       "1121  NaN     No emotion toward brand or product  \n",
       "1123  NaN     No emotion toward brand or product  \n",
       "1147  NaN     No emotion toward brand or product  \n",
       "1151  NaN     No emotion toward brand or product  \n",
       "1168  NaN     No emotion toward brand or product  \n",
       "1264  NaN     No emotion toward brand or product  \n",
       "1296  NaN     No emotion toward brand or product  \n",
       "1331  NaN     No emotion toward brand or product  \n",
       "1385  NaN     No emotion toward brand or product  \n",
       "1419  NaN     No emotion toward brand or product  \n",
       "1533  NaN     Positive emotion                    \n",
       "1545  NaN     I can't tell                        \n",
       "1585  NaN     No emotion toward brand or product  \n",
       "1591  NaN     No emotion toward brand or product  \n",
       "1627  NaN     No emotion toward brand or product  \n",
       "1693  NaN     No emotion toward brand or product  \n",
       "1750  NaN     No emotion toward brand or product  \n",
       "1766  NaN     No emotion toward brand or product  \n",
       "1803  NaN     Positive emotion                    \n",
       "1814  NaN     No emotion toward brand or product  \n",
       "1863  NaN     No emotion toward brand or product  \n",
       "1911  NaN     No emotion toward brand or product  \n",
       "1932  NaN     No emotion toward brand or product  \n",
       "1933  NaN     No emotion toward brand or product  \n",
       "1950  NaN     No emotion toward brand or product  \n",
       "1954  NaN     Positive emotion                    "
      ]
     },
     "execution_count": 400,
     "metadata": {},
     "output_type": "execute_result"
    }
   ],
   "source": [
    "data[na_mask][data[na_mask]['tweet_text'].str.contains('Android')].head(60)"
   ]
  },
  {
   "cell_type": "code",
   "execution_count": 412,
   "id": "12b5bcfe",
   "metadata": {},
   "outputs": [
    {
     "data": {
      "text/html": [
       "<div>\n",
       "<style scoped>\n",
       "    .dataframe tbody tr th:only-of-type {\n",
       "        vertical-align: middle;\n",
       "    }\n",
       "\n",
       "    .dataframe tbody tr th {\n",
       "        vertical-align: top;\n",
       "    }\n",
       "\n",
       "    .dataframe thead th {\n",
       "        text-align: right;\n",
       "    }\n",
       "</style>\n",
       "<table border=\"1\" class=\"dataframe\">\n",
       "  <thead>\n",
       "    <tr style=\"text-align: right;\">\n",
       "      <th></th>\n",
       "      <th>tweet_text</th>\n",
       "      <th>Product</th>\n",
       "      <th>Emotion</th>\n",
       "    </tr>\n",
       "  </thead>\n",
       "  <tbody>\n",
       "    <tr>\n",
       "      <th>0</th>\n",
       "      <td>.@wesley83 I have a 3G iPhone. After 3 hrs tweeting at #RISE_Austin, it was dead!  I need to upgrade. Plugin stations at #SXSW.</td>\n",
       "      <td>iPhone</td>\n",
       "      <td>Negative emotion</td>\n",
       "    </tr>\n",
       "    <tr>\n",
       "      <th>3</th>\n",
       "      <td>@sxsw I hope this year's festival isn't as crashy as this year's iPhone app. #sxsw</td>\n",
       "      <td>iPad or iPhone App</td>\n",
       "      <td>Negative emotion</td>\n",
       "    </tr>\n",
       "    <tr>\n",
       "      <th>17</th>\n",
       "      <td>I just noticed DST is coming this weekend. How many iPhone users will be an hour late at SXSW come Sunday morning? #SXSW #iPhone</td>\n",
       "      <td>iPhone</td>\n",
       "      <td>Negative emotion</td>\n",
       "    </tr>\n",
       "    <tr>\n",
       "      <th>38</th>\n",
       "      <td>@mention  - False Alarm: Google Circles Not Coming NowÛÒand Probably Not Ever? - {link} #Google #Circles #Social #SXSW</td>\n",
       "      <td>Google</td>\n",
       "      <td>Negative emotion</td>\n",
       "    </tr>\n",
       "    <tr>\n",
       "      <th>67</th>\n",
       "      <td>attending @mention iPad design headaches #sxsw {link}</td>\n",
       "      <td>iPad</td>\n",
       "      <td>Negative emotion</td>\n",
       "    </tr>\n",
       "    <tr>\n",
       "      <th>...</th>\n",
       "      <td>...</td>\n",
       "      <td>...</td>\n",
       "      <td>...</td>\n",
       "    </tr>\n",
       "    <tr>\n",
       "      <th>1770</th>\n",
       "      <td>#SXSW 2011: Novelty of iPad news apps fades fast among digital delegates {link}</td>\n",
       "      <td>iPad</td>\n",
       "      <td>Negative emotion</td>\n",
       "    </tr>\n",
       "    <tr>\n",
       "      <th>1771</th>\n",
       "      <td>#SXSW 2011: The #Google and #Bing smackdown in all its bloody banality {link}</td>\n",
       "      <td>Google</td>\n",
       "      <td>Negative emotion</td>\n",
       "    </tr>\n",
       "    <tr>\n",
       "      <th>1774</th>\n",
       "      <td>Not even 10am here in Austin and my iPhone batt is at 54% - shit #SXSW #notevenstartedyet</td>\n",
       "      <td>iPhone</td>\n",
       "      <td>Negative emotion</td>\n",
       "    </tr>\n",
       "    <tr>\n",
       "      <th>1826</th>\n",
       "      <td>Apple is a more selfish brand than Microsoft but it has served its brand well.#sxsw</td>\n",
       "      <td>Apple</td>\n",
       "      <td>Negative emotion</td>\n",
       "    </tr>\n",
       "    <tr>\n",
       "      <th>1865</th>\n",
       "      <td>fucking mac users..... {link} #sxsw CWebb iPad Grant Hill</td>\n",
       "      <td>Apple</td>\n",
       "      <td>Negative emotion</td>\n",
       "    </tr>\n",
       "  </tbody>\n",
       "</table>\n",
       "<p>100 rows × 3 columns</p>\n",
       "</div>"
      ],
      "text/plain": [
       "                                                                                                                            tweet_text  \\\n",
       "0     .@wesley83 I have a 3G iPhone. After 3 hrs tweeting at #RISE_Austin, it was dead!  I need to upgrade. Plugin stations at #SXSW.    \n",
       "3     @sxsw I hope this year's festival isn't as crashy as this year's iPhone app. #sxsw                                                 \n",
       "17    I just noticed DST is coming this weekend. How many iPhone users will be an hour late at SXSW come Sunday morning? #SXSW #iPhone   \n",
       "38    @mention  - False Alarm: Google Circles Not Coming NowÛÒand Probably Not Ever? - {link} #Google #Circles #Social #SXSW            \n",
       "67    attending @mention iPad design headaches #sxsw {link}                                                                              \n",
       "...                                                     ...                                                                              \n",
       "1770  #SXSW 2011: Novelty of iPad news apps fades fast among digital delegates {link}                                                    \n",
       "1771  #SXSW 2011: The #Google and #Bing smackdown in all its bloody banality {link}                                                      \n",
       "1774  Not even 10am here in Austin and my iPhone batt is at 54% - shit #SXSW #notevenstartedyet                                          \n",
       "1826  Apple is a more selfish brand than Microsoft but it has served its brand well.#sxsw                                                \n",
       "1865  fucking mac users..... {link} #sxsw CWebb iPad Grant Hill                                                                          \n",
       "\n",
       "                 Product           Emotion  \n",
       "0     iPhone              Negative emotion  \n",
       "3     iPad or iPhone App  Negative emotion  \n",
       "17    iPhone              Negative emotion  \n",
       "38    Google              Negative emotion  \n",
       "67    iPad                Negative emotion  \n",
       "...    ...                             ...  \n",
       "1770  iPad                Negative emotion  \n",
       "1771  Google              Negative emotion  \n",
       "1774  iPhone              Negative emotion  \n",
       "1826  Apple               Negative emotion  \n",
       "1865  Apple               Negative emotion  \n",
       "\n",
       "[100 rows x 3 columns]"
      ]
     },
     "execution_count": 412,
     "metadata": {},
     "output_type": "execute_result"
    }
   ],
   "source": [
    "data.dropna()[data.dropna()['Emotion']=='Negative emotion'].head(100)"
   ]
  },
  {
   "cell_type": "code",
   "execution_count": 372,
   "id": "1dcd38e9",
   "metadata": {},
   "outputs": [
    {
     "data": {
      "text/plain": [
       "322"
      ]
     },
     "execution_count": 372,
     "metadata": {},
     "output_type": "execute_result"
    }
   ],
   "source": [
    "np.sum(data[na_mask]['tweet_text'].str.contains('google'))"
   ]
  },
  {
   "cell_type": "code",
   "execution_count": null,
   "id": "5f5797ed",
   "metadata": {},
   "outputs": [],
   "source": [
    "df2[\"Colour\"].isin(colours)"
   ]
  },
  {
   "cell_type": "code",
   "execution_count": 373,
   "id": "172e20ec",
   "metadata": {},
   "outputs": [
    {
     "ename": "TypeError",
     "evalue": "unhashable type: 'list'",
     "output_type": "error",
     "traceback": [
      "\u001b[0;31m---------------------------------------------------------------------------\u001b[0m",
      "\u001b[0;31mTypeError\u001b[0m                                 Traceback (most recent call last)",
      "Input \u001b[0;32mIn [373]\u001b[0m, in \u001b[0;36m<cell line: 1>\u001b[0;34m()\u001b[0m\n\u001b[0;32m----> 1\u001b[0m \u001b[43mdata\u001b[49m\u001b[43m[\u001b[49m\u001b[43mna_mask\u001b[49m\u001b[43m]\u001b[49m\u001b[43m[\u001b[49m\u001b[38;5;124;43m'\u001b[39;49m\u001b[38;5;124;43mtweet_text\u001b[39;49m\u001b[38;5;124;43m'\u001b[39;49m\u001b[43m]\u001b[49m\u001b[38;5;241;43m.\u001b[39;49m\u001b[43mstr\u001b[49m\u001b[38;5;241;43m.\u001b[39;49m\u001b[43mfindall\u001b[49m\u001b[43m(\u001b[49m\u001b[43mproduct_words\u001b[49m\u001b[43m)\u001b[49m\n",
      "File \u001b[0;32m/opt/anaconda3/envs/learn-env/lib/python3.8/site-packages/pandas/core/strings.py:2001\u001b[0m, in \u001b[0;36mforbid_nonstring_types.<locals>._forbid_nonstring_types.<locals>.wrapper\u001b[0;34m(self, *args, **kwargs)\u001b[0m\n\u001b[1;32m   1996\u001b[0m     msg \u001b[38;5;241m=\u001b[39m (\n\u001b[1;32m   1997\u001b[0m         \u001b[38;5;124mf\u001b[39m\u001b[38;5;124m\"\u001b[39m\u001b[38;5;124mCannot use .str.\u001b[39m\u001b[38;5;132;01m{\u001b[39;00mfunc_name\u001b[38;5;132;01m}\u001b[39;00m\u001b[38;5;124m with values of \u001b[39m\u001b[38;5;124m\"\u001b[39m\n\u001b[1;32m   1998\u001b[0m         \u001b[38;5;124mf\u001b[39m\u001b[38;5;124m\"\u001b[39m\u001b[38;5;124minferred dtype \u001b[39m\u001b[38;5;124m'\u001b[39m\u001b[38;5;132;01m{\u001b[39;00m\u001b[38;5;28mself\u001b[39m\u001b[38;5;241m.\u001b[39m_inferred_dtype\u001b[38;5;132;01m}\u001b[39;00m\u001b[38;5;124m'\u001b[39m\u001b[38;5;124m.\u001b[39m\u001b[38;5;124m\"\u001b[39m\n\u001b[1;32m   1999\u001b[0m     )\n\u001b[1;32m   2000\u001b[0m     \u001b[38;5;28;01mraise\u001b[39;00m \u001b[38;5;167;01mTypeError\u001b[39;00m(msg)\n\u001b[0;32m-> 2001\u001b[0m \u001b[38;5;28;01mreturn\u001b[39;00m \u001b[43mfunc\u001b[49m\u001b[43m(\u001b[49m\u001b[38;5;28;43mself\u001b[39;49m\u001b[43m,\u001b[49m\u001b[43m \u001b[49m\u001b[38;5;241;43m*\u001b[39;49m\u001b[43margs\u001b[49m\u001b[43m,\u001b[49m\u001b[43m \u001b[49m\u001b[38;5;241;43m*\u001b[39;49m\u001b[38;5;241;43m*\u001b[39;49m\u001b[43mkwargs\u001b[49m\u001b[43m)\u001b[49m\n",
      "File \u001b[0;32m/opt/anaconda3/envs/learn-env/lib/python3.8/site-packages/pandas/core/strings.py:2047\u001b[0m, in \u001b[0;36m_pat_wrapper.<locals>.wrapper2\u001b[0;34m(self, pat, flags, **kwargs)\u001b[0m\n\u001b[1;32m   2045\u001b[0m \u001b[38;5;129m@forbid_nonstring_types\u001b[39m(forbidden_types, name\u001b[38;5;241m=\u001b[39mname)\n\u001b[1;32m   2046\u001b[0m \u001b[38;5;28;01mdef\u001b[39;00m \u001b[38;5;21mwrapper2\u001b[39m(\u001b[38;5;28mself\u001b[39m, pat, flags\u001b[38;5;241m=\u001b[39m\u001b[38;5;241m0\u001b[39m, \u001b[38;5;241m*\u001b[39m\u001b[38;5;241m*\u001b[39mkwargs):\n\u001b[0;32m-> 2047\u001b[0m     result \u001b[38;5;241m=\u001b[39m \u001b[43mf\u001b[49m\u001b[43m(\u001b[49m\u001b[38;5;28;43mself\u001b[39;49m\u001b[38;5;241;43m.\u001b[39;49m\u001b[43m_parent\u001b[49m\u001b[43m,\u001b[49m\u001b[43m \u001b[49m\u001b[43mpat\u001b[49m\u001b[43m,\u001b[49m\u001b[43m \u001b[49m\u001b[43mflags\u001b[49m\u001b[38;5;241;43m=\u001b[39;49m\u001b[43mflags\u001b[49m\u001b[43m,\u001b[49m\u001b[43m \u001b[49m\u001b[38;5;241;43m*\u001b[39;49m\u001b[38;5;241;43m*\u001b[39;49m\u001b[43mkwargs\u001b[49m\u001b[43m)\u001b[49m\n\u001b[1;32m   2048\u001b[0m     \u001b[38;5;28;01mreturn\u001b[39;00m \u001b[38;5;28mself\u001b[39m\u001b[38;5;241m.\u001b[39m_wrap_result(result, returns_string\u001b[38;5;241m=\u001b[39mreturns_string)\n",
      "File \u001b[0;32m/opt/anaconda3/envs/learn-env/lib/python3.8/site-packages/pandas/core/strings.py:1386\u001b[0m, in \u001b[0;36mstr_findall\u001b[0;34m(arr, pat, flags)\u001b[0m\n\u001b[1;32m   1297\u001b[0m \u001b[38;5;28;01mdef\u001b[39;00m \u001b[38;5;21mstr_findall\u001b[39m(arr, pat, flags\u001b[38;5;241m=\u001b[39m\u001b[38;5;241m0\u001b[39m):\n\u001b[1;32m   1298\u001b[0m     \u001b[38;5;124;03m\"\"\"\u001b[39;00m\n\u001b[1;32m   1299\u001b[0m \u001b[38;5;124;03m    Find all occurrences of pattern or regular expression in the Series/Index.\u001b[39;00m\n\u001b[1;32m   1300\u001b[0m \n\u001b[0;32m   (...)\u001b[0m\n\u001b[1;32m   1384\u001b[0m \u001b[38;5;124;03m    dtype: object\u001b[39;00m\n\u001b[1;32m   1385\u001b[0m \u001b[38;5;124;03m    \"\"\"\u001b[39;00m\n\u001b[0;32m-> 1386\u001b[0m     regex \u001b[38;5;241m=\u001b[39m \u001b[43mre\u001b[49m\u001b[38;5;241;43m.\u001b[39;49m\u001b[43mcompile\u001b[49m\u001b[43m(\u001b[49m\u001b[43mpat\u001b[49m\u001b[43m,\u001b[49m\u001b[43m \u001b[49m\u001b[43mflags\u001b[49m\u001b[38;5;241;43m=\u001b[39;49m\u001b[43mflags\u001b[49m\u001b[43m)\u001b[49m\n\u001b[1;32m   1387\u001b[0m     \u001b[38;5;28;01mreturn\u001b[39;00m _na_map(regex\u001b[38;5;241m.\u001b[39mfindall, arr)\n",
      "File \u001b[0;32m/opt/anaconda3/envs/learn-env/lib/python3.8/re.py:252\u001b[0m, in \u001b[0;36mcompile\u001b[0;34m(pattern, flags)\u001b[0m\n\u001b[1;32m    250\u001b[0m \u001b[38;5;28;01mdef\u001b[39;00m \u001b[38;5;21mcompile\u001b[39m(pattern, flags\u001b[38;5;241m=\u001b[39m\u001b[38;5;241m0\u001b[39m):\n\u001b[1;32m    251\u001b[0m     \u001b[38;5;124m\"\u001b[39m\u001b[38;5;124mCompile a regular expression pattern, returning a Pattern object.\u001b[39m\u001b[38;5;124m\"\u001b[39m\n\u001b[0;32m--> 252\u001b[0m     \u001b[38;5;28;01mreturn\u001b[39;00m \u001b[43m_compile\u001b[49m\u001b[43m(\u001b[49m\u001b[43mpattern\u001b[49m\u001b[43m,\u001b[49m\u001b[43m \u001b[49m\u001b[43mflags\u001b[49m\u001b[43m)\u001b[49m\n",
      "File \u001b[0;32m/opt/anaconda3/envs/learn-env/lib/python3.8/re.py:294\u001b[0m, in \u001b[0;36m_compile\u001b[0;34m(pattern, flags)\u001b[0m\n\u001b[1;32m    292\u001b[0m     flags \u001b[38;5;241m=\u001b[39m flags\u001b[38;5;241m.\u001b[39mvalue\n\u001b[1;32m    293\u001b[0m \u001b[38;5;28;01mtry\u001b[39;00m:\n\u001b[0;32m--> 294\u001b[0m     \u001b[38;5;28;01mreturn\u001b[39;00m \u001b[43m_cache\u001b[49m\u001b[43m[\u001b[49m\u001b[38;5;28;43mtype\u001b[39;49m\u001b[43m(\u001b[49m\u001b[43mpattern\u001b[49m\u001b[43m)\u001b[49m\u001b[43m,\u001b[49m\u001b[43m \u001b[49m\u001b[43mpattern\u001b[49m\u001b[43m,\u001b[49m\u001b[43m \u001b[49m\u001b[43mflags\u001b[49m\u001b[43m]\u001b[49m\n\u001b[1;32m    295\u001b[0m \u001b[38;5;28;01mexcept\u001b[39;00m \u001b[38;5;167;01mKeyError\u001b[39;00m:\n\u001b[1;32m    296\u001b[0m     \u001b[38;5;28;01mpass\u001b[39;00m\n",
      "\u001b[0;31mTypeError\u001b[0m: unhashable type: 'list'"
     ]
    }
   ],
   "source": [
    "data[na_mask]['tweet_text'].str.findall(product_words)"
   ]
  },
  {
   "cell_type": "code",
   "execution_count": null,
   "id": "37a64407",
   "metadata": {},
   "outputs": [],
   "source": []
  },
  {
   "cell_type": "markdown",
   "id": "1c9a144f",
   "metadata": {},
   "source": [
    "### Function to Preprocess and Clean"
   ]
  },
  {
   "cell_type": "code",
   "execution_count": 278,
   "id": "65c4e2bc",
   "metadata": {},
   "outputs": [],
   "source": [
    "'''\n",
    "Preprocess a string.\n",
    ":parameter\n",
    "    :param text: string - name of column containing text\n",
    "    :param lst_stopwords: list - list of stopwords to remove\n",
    "    :param flg_stemm: bool - whether stemming is to be applied\n",
    "    :param flg_lemm: bool - whether lemmitisation is to be applied\n",
    ":return\n",
    "    cleaned text\n",
    "'''\n",
    "def utils_preprocess_text(text, flg_stemm=False, flg_lemm=True, lst_stopwords=None):\n",
    "    ## clean (convert to lowercase and remove punctuations and   characters and then strip)\n",
    "    \n",
    "    \n",
    "    text = re.sub(r'[^\\w\\s]', '', str(text).lower().strip())\n",
    "            \n",
    "    ## Tokenize (convert from string to list)\n",
    "    lst_text = text.split()\n",
    "    ## remove Stopwords\n",
    "    if lst_stopwords is not None:\n",
    "        lst_text = [word for word in lst_text if word not in \n",
    "                    lst_stopwords]\n",
    "                \n",
    "    ## Stemming (remove -ing, -ly, ...)\n",
    "    if flg_stemm == True:\n",
    "        ps = nltk.stem.porter.PorterStemmer()\n",
    "        lst_text = [ps.stem(word) for word in lst_text]\n",
    "                \n",
    "    ## Lemmatisation (convert the word into root word)\n",
    "    if flg_lemm == True:\n",
    "        lem = nltk.stem.wordnet.WordNetLemmatizer()\n",
    "        lst_text = [lem.lemmatize(word) for word in lst_text]\n",
    "            \n",
    "    ## back to string from list\n",
    "    text = \" \".join(lst_text)\n",
    "    return text"
   ]
  },
  {
   "cell_type": "markdown",
   "id": "0441cfa1",
   "metadata": {},
   "source": [
    "### List of Stopwords"
   ]
  },
  {
   "cell_type": "code",
   "execution_count": 295,
   "id": "51ffcce7",
   "metadata": {},
   "outputs": [
    {
     "data": {
      "text/plain": [
       "['i',\n",
       " 'me',\n",
       " 'my',\n",
       " 'myself',\n",
       " 'we',\n",
       " 'our',\n",
       " 'ours',\n",
       " 'ourselves',\n",
       " 'you',\n",
       " \"you're\",\n",
       " \"you've\",\n",
       " \"you'll\",\n",
       " \"you'd\",\n",
       " 'your',\n",
       " 'yours',\n",
       " 'yourself',\n",
       " 'yourselves',\n",
       " 'he',\n",
       " 'him',\n",
       " 'his',\n",
       " 'himself',\n",
       " 'she',\n",
       " \"she's\",\n",
       " 'her',\n",
       " 'hers',\n",
       " 'herself',\n",
       " 'it',\n",
       " \"it's\",\n",
       " 'its',\n",
       " 'itself',\n",
       " 'they',\n",
       " 'them',\n",
       " 'their',\n",
       " 'theirs',\n",
       " 'themselves',\n",
       " 'what',\n",
       " 'which',\n",
       " 'who',\n",
       " 'whom',\n",
       " 'this',\n",
       " 'that',\n",
       " \"that'll\",\n",
       " 'these',\n",
       " 'those',\n",
       " 'am',\n",
       " 'is',\n",
       " 'are',\n",
       " 'was',\n",
       " 'were',\n",
       " 'be',\n",
       " 'been',\n",
       " 'being',\n",
       " 'have',\n",
       " 'has',\n",
       " 'had',\n",
       " 'having',\n",
       " 'do',\n",
       " 'does',\n",
       " 'did',\n",
       " 'doing',\n",
       " 'a',\n",
       " 'an',\n",
       " 'the',\n",
       " 'and',\n",
       " 'but',\n",
       " 'if',\n",
       " 'or',\n",
       " 'because',\n",
       " 'as',\n",
       " 'until',\n",
       " 'while',\n",
       " 'of',\n",
       " 'at',\n",
       " 'by',\n",
       " 'for',\n",
       " 'with',\n",
       " 'about',\n",
       " 'against',\n",
       " 'between',\n",
       " 'into',\n",
       " 'through',\n",
       " 'during',\n",
       " 'before',\n",
       " 'after',\n",
       " 'above',\n",
       " 'below',\n",
       " 'to',\n",
       " 'from',\n",
       " 'up',\n",
       " 'down',\n",
       " 'in',\n",
       " 'out',\n",
       " 'on',\n",
       " 'off',\n",
       " 'over',\n",
       " 'under',\n",
       " 'again',\n",
       " 'further',\n",
       " 'then',\n",
       " 'once',\n",
       " 'here',\n",
       " 'there',\n",
       " 'when',\n",
       " 'where',\n",
       " 'why',\n",
       " 'how',\n",
       " 'all',\n",
       " 'any',\n",
       " 'both',\n",
       " 'each',\n",
       " 'few',\n",
       " 'more',\n",
       " 'most',\n",
       " 'other',\n",
       " 'some',\n",
       " 'such',\n",
       " 'no',\n",
       " 'nor',\n",
       " 'not',\n",
       " 'only',\n",
       " 'own',\n",
       " 'same',\n",
       " 'so',\n",
       " 'than',\n",
       " 'too',\n",
       " 'very',\n",
       " 's',\n",
       " 't',\n",
       " 'can',\n",
       " 'will',\n",
       " 'just',\n",
       " 'don',\n",
       " \"don't\",\n",
       " 'should',\n",
       " \"should've\",\n",
       " 'now',\n",
       " 'd',\n",
       " 'll',\n",
       " 'm',\n",
       " 'o',\n",
       " 're',\n",
       " 've',\n",
       " 'y',\n",
       " 'ain',\n",
       " 'aren',\n",
       " \"aren't\",\n",
       " 'couldn',\n",
       " \"couldn't\",\n",
       " 'didn',\n",
       " \"didn't\",\n",
       " 'doesn',\n",
       " \"doesn't\",\n",
       " 'hadn',\n",
       " \"hadn't\",\n",
       " 'hasn',\n",
       " \"hasn't\",\n",
       " 'haven',\n",
       " \"haven't\",\n",
       " 'isn',\n",
       " \"isn't\",\n",
       " 'ma',\n",
       " 'mightn',\n",
       " \"mightn't\",\n",
       " 'mustn',\n",
       " \"mustn't\",\n",
       " 'needn',\n",
       " \"needn't\",\n",
       " 'shan',\n",
       " \"shan't\",\n",
       " 'shouldn',\n",
       " \"shouldn't\",\n",
       " 'wasn',\n",
       " \"wasn't\",\n",
       " 'weren',\n",
       " \"weren't\",\n",
       " 'won',\n",
       " \"won't\",\n",
       " 'wouldn',\n",
       " \"wouldn't\"]"
      ]
     },
     "execution_count": 295,
     "metadata": {},
     "output_type": "execute_result"
    }
   ],
   "source": [
    "lst_stopwords = nltk.corpus.stopwords.words(\"english\")\n",
    "lst_stopwords"
   ]
  },
  {
   "cell_type": "code",
   "execution_count": 296,
   "id": "f8dcdd84",
   "metadata": {},
   "outputs": [
    {
     "name": "stdout",
     "output_type": "stream",
     "text": [
      "<class 'pandas.core.frame.DataFrame'>\n",
      "RangeIndex: 9093 entries, 0 to 9092\n",
      "Data columns (total 3 columns):\n",
      " #   Column      Non-Null Count  Dtype \n",
      "---  ------      --------------  ----- \n",
      " 0   tweet_text  9092 non-null   object\n",
      " 1   Product     3291 non-null   object\n",
      " 2   Emotion     9093 non-null   object\n",
      "dtypes: object(3)\n",
      "memory usage: 213.2+ KB\n"
     ]
    }
   ],
   "source": [
    "data.info()"
   ]
  },
  {
   "cell_type": "code",
   "execution_count": null,
   "id": "bf37955d",
   "metadata": {},
   "outputs": [],
   "source": []
  },
  {
   "cell_type": "code",
   "execution_count": 281,
   "id": "6eb88ad9",
   "metadata": {},
   "outputs": [],
   "source": [
    "import nltk"
   ]
  },
  {
   "cell_type": "code",
   "execution_count": 282,
   "id": "d8edadfe",
   "metadata": {},
   "outputs": [
    {
     "name": "stderr",
     "output_type": "stream",
     "text": [
      "[nltk_data] Downloading package wordnet to\n",
      "[nltk_data]     /Users/seanyboy/nltk_data...\n",
      "[nltk_data]   Package wordnet is already up-to-date!\n"
     ]
    },
    {
     "data": {
      "text/plain": [
       "True"
      ]
     },
     "execution_count": 282,
     "metadata": {},
     "output_type": "execute_result"
    }
   ],
   "source": [
    "nltk.download('wordnet')"
   ]
  },
  {
   "cell_type": "code",
   "execution_count": 91,
   "id": "196c70f8",
   "metadata": {},
   "outputs": [
    {
     "data": {
      "text/html": [
       "<div>\n",
       "<style scoped>\n",
       "    .dataframe tbody tr th:only-of-type {\n",
       "        vertical-align: middle;\n",
       "    }\n",
       "\n",
       "    .dataframe tbody tr th {\n",
       "        vertical-align: top;\n",
       "    }\n",
       "\n",
       "    .dataframe thead th {\n",
       "        text-align: right;\n",
       "    }\n",
       "</style>\n",
       "<table border=\"1\" class=\"dataframe\">\n",
       "  <thead>\n",
       "    <tr style=\"text-align: right;\">\n",
       "      <th></th>\n",
       "      <th>tweet_text</th>\n",
       "      <th>Product</th>\n",
       "      <th>Emotion</th>\n",
       "      <th>text_clean</th>\n",
       "    </tr>\n",
       "  </thead>\n",
       "  <tbody>\n",
       "    <tr>\n",
       "      <th>0</th>\n",
       "      <td>.@wesley83 I have a 3G iPhone. After 3 hrs twe...</td>\n",
       "      <td>iPhone</td>\n",
       "      <td>Negative emotion</td>\n",
       "      <td>wesley83 3g iphone 3 hr tweeting rise_austin d...</td>\n",
       "    </tr>\n",
       "    <tr>\n",
       "      <th>1</th>\n",
       "      <td>@jessedee Know about @fludapp ? Awesome iPad/i...</td>\n",
       "      <td>iPad or iPhone App</td>\n",
       "      <td>Positive emotion</td>\n",
       "      <td>jessedee know fludapp awesome ipadiphone app y...</td>\n",
       "    </tr>\n",
       "    <tr>\n",
       "      <th>2</th>\n",
       "      <td>@swonderlin Can not wait for #iPad 2 also. The...</td>\n",
       "      <td>iPad</td>\n",
       "      <td>Positive emotion</td>\n",
       "      <td>swonderlin wait ipad 2 also sale sxsw</td>\n",
       "    </tr>\n",
       "    <tr>\n",
       "      <th>3</th>\n",
       "      <td>@sxsw I hope this year's festival isn't as cra...</td>\n",
       "      <td>iPad or iPhone App</td>\n",
       "      <td>Negative emotion</td>\n",
       "      <td>sxsw hope year festival isnt crashy year iphon...</td>\n",
       "    </tr>\n",
       "    <tr>\n",
       "      <th>4</th>\n",
       "      <td>@sxtxstate great stuff on Fri #SXSW: Marissa M...</td>\n",
       "      <td>Google</td>\n",
       "      <td>Positive emotion</td>\n",
       "      <td>sxtxstate great stuff fri sxsw marissa mayer g...</td>\n",
       "    </tr>\n",
       "  </tbody>\n",
       "</table>\n",
       "</div>"
      ],
      "text/plain": [
       "                                          tweet_text             Product  \\\n",
       "0  .@wesley83 I have a 3G iPhone. After 3 hrs twe...              iPhone   \n",
       "1  @jessedee Know about @fludapp ? Awesome iPad/i...  iPad or iPhone App   \n",
       "2  @swonderlin Can not wait for #iPad 2 also. The...                iPad   \n",
       "3  @sxsw I hope this year's festival isn't as cra...  iPad or iPhone App   \n",
       "4  @sxtxstate great stuff on Fri #SXSW: Marissa M...              Google   \n",
       "\n",
       "            Emotion                                         text_clean  \n",
       "0  Negative emotion  wesley83 3g iphone 3 hr tweeting rise_austin d...  \n",
       "1  Positive emotion  jessedee know fludapp awesome ipadiphone app y...  \n",
       "2  Positive emotion              swonderlin wait ipad 2 also sale sxsw  \n",
       "3  Negative emotion  sxsw hope year festival isnt crashy year iphon...  \n",
       "4  Positive emotion  sxtxstate great stuff fri sxsw marissa mayer g...  "
      ]
     },
     "execution_count": 91,
     "metadata": {},
     "output_type": "execute_result"
    }
   ],
   "source": [
    "data[\"text_clean\"] = data[\"tweet_text\"].apply(lambda x: \n",
    "          utils_preprocess_text(x, flg_stemm=False, flg_lemm=True, \n",
    "          lst_stopwords=lst_stopwords))\n",
    "data.head()"
   ]
  },
  {
   "cell_type": "code",
   "execution_count": 93,
   "id": "4d19af29",
   "metadata": {},
   "outputs": [
    {
     "data": {
      "text/plain": [
       "4031    feel better 106 1st day mention sxsw ipad stor...\n",
       "Name: text_clean, dtype: object"
      ]
     },
     "execution_count": 93,
     "metadata": {},
     "output_type": "execute_result"
    }
   ],
   "source": [
    "data['text_clean'].sample()"
   ]
  },
  {
   "cell_type": "code",
   "execution_count": 104,
   "id": "26362de6",
   "metadata": {},
   "outputs": [
    {
     "data": {
      "text/plain": [
       "['@',\n",
       " 'jessedee',\n",
       " 'Know',\n",
       " 'about',\n",
       " '@',\n",
       " 'fludapp',\n",
       " '?',\n",
       " 'Awesome',\n",
       " 'iPad/iPhone',\n",
       " 'app',\n",
       " 'that',\n",
       " 'you',\n",
       " \"'ll\",\n",
       " 'likely',\n",
       " 'appreciate',\n",
       " 'for',\n",
       " 'its',\n",
       " 'design',\n",
       " '.',\n",
       " 'Also',\n",
       " ',',\n",
       " 'they',\n",
       " \"'re\",\n",
       " 'giving',\n",
       " 'free',\n",
       " 'Ts',\n",
       " 'at',\n",
       " '#',\n",
       " 'SXSW']"
      ]
     },
     "execution_count": 104,
     "metadata": {},
     "output_type": "execute_result"
    }
   ],
   "source": [
    "nltk.word_tokenize(data['tweet_text'][1])"
   ]
  },
  {
   "cell_type": "code",
   "execution_count": null,
   "id": "7425810b",
   "metadata": {},
   "outputs": [],
   "source": []
  },
  {
   "cell_type": "code",
   "execution_count": 116,
   "id": "9a35299b",
   "metadata": {},
   "outputs": [],
   "source": [
    "data['tweet_text']=data['tweet_text'].apply(lambda x: str(x))\n",
    "data['tweet_text']=data['tweet_text'].apply(nltk.word_tokenize)"
   ]
  },
  {
   "cell_type": "code",
   "execution_count": 121,
   "id": "ceff245a",
   "metadata": {},
   "outputs": [
    {
     "data": {
      "text/plain": [
       "' text'"
      ]
     },
     "execution_count": 121,
     "metadata": {},
     "output_type": "execute_result"
    }
   ],
   "source": [
    "import re\n",
    "re.sub(\"@[A-Za-z0-9]+\",\"\", \"@thisisauser text\")\n",
    "' text'"
   ]
  },
  {
   "cell_type": "code",
   "execution_count": 150,
   "id": "b314e3b5",
   "metadata": {},
   "outputs": [],
   "source": [
    "counts = data['Product'].value_counts(dropna=False)\n",
    "product_words = data[data['Product'].map(counts)>35]['Product'].value_counts().index.tolist()"
   ]
  },
  {
   "cell_type": "code",
   "execution_count": 143,
   "id": "41443650",
   "metadata": {},
   "outputs": [
    {
     "data": {
      "text/plain": [
       "iPad                                True\n",
       "Apple                               True\n",
       "iPad or iPhone App                  True\n",
       "Google                              True\n",
       "iPhone                              True\n",
       "Other Google product or service     True\n",
       "Android App                         True\n",
       "Android                             True\n",
       "Other Apple product or service     False\n",
       "Name: Product, dtype: bool"
      ]
     },
     "execution_count": 143,
     "metadata": {},
     "output_type": "execute_result"
    }
   ],
   "source": [
    "data.groupby('Product')"
   ]
  },
  {
   "cell_type": "code",
   "execution_count": 117,
   "id": "6b87c493",
   "metadata": {},
   "outputs": [
    {
     "data": {
      "text/plain": [
       "0       [., @, wesley83, I, have, a, 3G, iPhone, ., Af...\n",
       "1       [@, jessedee, Know, about, @, fludapp, ?, Awes...\n",
       "2       [@, swonderlin, Can, not, wait, for, #, iPad, ...\n",
       "3       [@, sxsw, I, hope, this, year, 's, festival, i...\n",
       "4       [@, sxtxstate, great, stuff, on, Fri, #, SXSW,...\n",
       "                              ...                        \n",
       "9088           [Ipad, everywhere, ., #, SXSW, {, link, }]\n",
       "9089    [Wave, ,, buzz, ..., RT, @, mention, We, inter...\n",
       "9090    [Google, 's, Zeiger, ,, a, physician, never, r...\n",
       "9091    [Some, Verizon, iPhone, customers, complained,...\n",
       "9092    [Ï¡Ïàü_ÊÎÒ£Áââ_£â_ÛâRT,...\n",
       "Name: tweet_text, Length: 9093, dtype: object"
      ]
     },
     "execution_count": 117,
     "metadata": {},
     "output_type": "execute_result"
    }
   ],
   "source": [
    "data['tweet_text']"
   ]
  },
  {
   "cell_type": "code",
   "execution_count": 99,
   "id": "34c8bdc0",
   "metadata": {},
   "outputs": [
    {
     "name": "stdout",
     "output_type": "stream",
     "text": [
      "<class 'pandas.core.frame.DataFrame'>\n",
      "RangeIndex: 9093 entries, 0 to 9092\n",
      "Data columns (total 4 columns):\n",
      " #   Column      Non-Null Count  Dtype \n",
      "---  ------      --------------  ----- \n",
      " 0   tweet_text  9092 non-null   object\n",
      " 1   Product     3291 non-null   object\n",
      " 2   Emotion     9093 non-null   object\n",
      " 3   text_clean  9093 non-null   object\n",
      "dtypes: object(4)\n",
      "memory usage: 284.3+ KB\n"
     ]
    }
   ],
   "source": [
    "data.info()"
   ]
  },
  {
   "cell_type": "code",
   "execution_count": 157,
   "id": "72b09ccb",
   "metadata": {},
   "outputs": [
    {
     "ename": "SyntaxError",
     "evalue": "invalid syntax (2101657802.py, line 1)",
     "output_type": "error",
     "traceback": [
      "\u001b[0;36m  Input \u001b[0;32mIn [157]\u001b[0;36m\u001b[0m\n\u001b[0;31m    data['tweet_text'] = data['tweet_text'].apply(lambda x: x.strip() if word[0]!='@')\u001b[0m\n\u001b[0m                                                                                     ^\u001b[0m\n\u001b[0;31mSyntaxError\u001b[0m\u001b[0;31m:\u001b[0m invalid syntax\n"
     ]
    }
   ],
   "source": [
    "data['tweet_text'] = data['tweet_text'].apply(lambda x: x.strip() if word[0]!='@')"
   ]
  },
  {
   "cell_type": "code",
   "execution_count": 194,
   "id": "c213c138",
   "metadata": {},
   "outputs": [],
   "source": [
    "test = data['tweet_text'][100]\n",
    "test = test.split()\n",
    "test = [word for word in test if '@' not in word and word not in product_words]\n",
    "test=' '.join(test)"
   ]
  },
  {
   "cell_type": "code",
   "execution_count": 196,
   "id": "f816c16e",
   "metadata": {},
   "outputs": [
    {
     "ename": "SyntaxError",
     "evalue": "invalid syntax (4148738455.py, line 1)",
     "output_type": "error",
     "traceback": [
      "\u001b[0;36m  Input \u001b[0;32mIn [196]\u001b[0;36m\u001b[0m\n\u001b[0;31m    def remove_mentions(text)\u001b[0m\n\u001b[0m                             ^\u001b[0m\n\u001b[0;31mSyntaxError\u001b[0m\u001b[0;31m:\u001b[0m invalid syntax\n"
     ]
    }
   ],
   "source": [
    "def remove_mentions(text):\n",
    "    text.split()\n",
    "    text = [word for word in text if '@' in]"
   ]
  },
  {
   "cell_type": "code",
   "execution_count": 208,
   "id": "cfe3e0a0",
   "metadata": {},
   "outputs": [
    {
     "ename": "ValueError",
     "evalue": "Cannot mask with non-boolean array containing NA / NaN values",
     "output_type": "error",
     "traceback": [
      "\u001b[0;31m---------------------------------------------------------------------------\u001b[0m",
      "\u001b[0;31mValueError\u001b[0m                                Traceback (most recent call last)",
      "Input \u001b[0;32mIn [208]\u001b[0m, in \u001b[0;36m<cell line: 1>\u001b[0;34m()\u001b[0m\n\u001b[0;32m----> 1\u001b[0m \u001b[43mdata\u001b[49m\u001b[43m[\u001b[49m\u001b[43mdata\u001b[49m\u001b[43m[\u001b[49m\u001b[38;5;124;43m'\u001b[39;49m\u001b[38;5;124;43mtweet_text\u001b[39;49m\u001b[38;5;124;43m'\u001b[39;49m\u001b[43m]\u001b[49m\u001b[38;5;241;43m.\u001b[39;49m\u001b[43mstr\u001b[49m\u001b[38;5;241;43m.\u001b[39;49m\u001b[43mcontains\u001b[49m\u001b[43m(\u001b[49m\u001b[38;5;124;43m'\u001b[39;49m\u001b[38;5;124;43m@Apple\u001b[39;49m\u001b[38;5;124;43m'\u001b[39;49m\u001b[43m)\u001b[49m\u001b[43m]\u001b[49m\n",
      "File \u001b[0;32m/opt/anaconda3/envs/learn-env/lib/python3.8/site-packages/pandas/core/frame.py:2892\u001b[0m, in \u001b[0;36mDataFrame.__getitem__\u001b[0;34m(self, key)\u001b[0m\n\u001b[1;32m   2889\u001b[0m     \u001b[38;5;28;01mreturn\u001b[39;00m \u001b[38;5;28mself\u001b[39m\u001b[38;5;241m.\u001b[39mwhere(key)\n\u001b[1;32m   2891\u001b[0m \u001b[38;5;66;03m# Do we have a (boolean) 1d indexer?\u001b[39;00m\n\u001b[0;32m-> 2892\u001b[0m \u001b[38;5;28;01mif\u001b[39;00m \u001b[43mcom\u001b[49m\u001b[38;5;241;43m.\u001b[39;49m\u001b[43mis_bool_indexer\u001b[49m\u001b[43m(\u001b[49m\u001b[43mkey\u001b[49m\u001b[43m)\u001b[49m:\n\u001b[1;32m   2893\u001b[0m     \u001b[38;5;28;01mreturn\u001b[39;00m \u001b[38;5;28mself\u001b[39m\u001b[38;5;241m.\u001b[39m_getitem_bool_array(key)\n\u001b[1;32m   2895\u001b[0m \u001b[38;5;66;03m# We are left with two options: a single key, and a collection of keys,\u001b[39;00m\n\u001b[1;32m   2896\u001b[0m \u001b[38;5;66;03m# We interpret tuples as collections only for non-MultiIndex\u001b[39;00m\n",
      "File \u001b[0;32m/opt/anaconda3/envs/learn-env/lib/python3.8/site-packages/pandas/core/common.py:134\u001b[0m, in \u001b[0;36mis_bool_indexer\u001b[0;34m(key)\u001b[0m\n\u001b[1;32m    132\u001b[0m     na_msg \u001b[38;5;241m=\u001b[39m \u001b[38;5;124m\"\u001b[39m\u001b[38;5;124mCannot mask with non-boolean array containing NA / NaN values\u001b[39m\u001b[38;5;124m\"\u001b[39m\n\u001b[1;32m    133\u001b[0m     \u001b[38;5;28;01mif\u001b[39;00m isna(key)\u001b[38;5;241m.\u001b[39many():\n\u001b[0;32m--> 134\u001b[0m         \u001b[38;5;28;01mraise\u001b[39;00m \u001b[38;5;167;01mValueError\u001b[39;00m(na_msg)\n\u001b[1;32m    135\u001b[0m     \u001b[38;5;28;01mreturn\u001b[39;00m \u001b[38;5;28;01mFalse\u001b[39;00m\n\u001b[1;32m    136\u001b[0m \u001b[38;5;28;01mreturn\u001b[39;00m \u001b[38;5;28;01mTrue\u001b[39;00m\n",
      "\u001b[0;31mValueError\u001b[0m: Cannot mask with non-boolean array containing NA / NaN values"
     ]
    }
   ],
   "source": [
    "data[data['tweet_text'].str.contains('@Apple')]"
   ]
  },
  {
   "cell_type": "code",
   "execution_count": 182,
   "id": "3416d016",
   "metadata": {},
   "outputs": [
    {
     "data": {
      "text/plain": [
       "'I have a 3G iPhone. After 3 hrs tweeting at #RISE_Austin, it was dead! I need to upgrade. Plugin stations at #SXSW.'"
      ]
     },
     "execution_count": 182,
     "metadata": {},
     "output_type": "execute_result"
    }
   ],
   "source": [
    "if @ in word remove word only if word no in product"
   ]
  },
  {
   "cell_type": "code",
   "execution_count": 219,
   "id": "3951df65",
   "metadata": {},
   "outputs": [],
   "source": [
    " = data[data['Product'].isna()]"
   ]
  },
  {
   "cell_type": "code",
   "execution_count": 220,
   "id": "e63b5573",
   "metadata": {},
   "outputs": [
    {
     "data": {
      "text/html": [
       "<div>\n",
       "<style scoped>\n",
       "    .dataframe tbody tr th:only-of-type {\n",
       "        vertical-align: middle;\n",
       "    }\n",
       "\n",
       "    .dataframe tbody tr th {\n",
       "        vertical-align: top;\n",
       "    }\n",
       "\n",
       "    .dataframe thead th {\n",
       "        text-align: right;\n",
       "    }\n",
       "</style>\n",
       "<table border=\"1\" class=\"dataframe\">\n",
       "  <thead>\n",
       "    <tr style=\"text-align: right;\">\n",
       "      <th></th>\n",
       "      <th>tweet_text</th>\n",
       "      <th>Product</th>\n",
       "      <th>Emotion</th>\n",
       "    </tr>\n",
       "  </thead>\n",
       "  <tbody>\n",
       "    <tr>\n",
       "      <th>5</th>\n",
       "      <td>@teachntech00 New iPad Apps For #SpeechTherapy...</td>\n",
       "      <td>NaN</td>\n",
       "      <td>No emotion toward brand or product</td>\n",
       "    </tr>\n",
       "    <tr>\n",
       "      <th>6</th>\n",
       "      <td>NaN</td>\n",
       "      <td>NaN</td>\n",
       "      <td>No emotion toward brand or product</td>\n",
       "    </tr>\n",
       "    <tr>\n",
       "      <th>16</th>\n",
       "      <td>Holler Gram for iPad on the iTunes App Store -...</td>\n",
       "      <td>NaN</td>\n",
       "      <td>No emotion toward brand or product</td>\n",
       "    </tr>\n",
       "    <tr>\n",
       "      <th>32</th>\n",
       "      <td>Attn: All  #SXSW frineds, @mention Register fo...</td>\n",
       "      <td>NaN</td>\n",
       "      <td>No emotion toward brand or product</td>\n",
       "    </tr>\n",
       "    <tr>\n",
       "      <th>33</th>\n",
       "      <td>Anyone at  #sxsw want to sell their old iPad?</td>\n",
       "      <td>NaN</td>\n",
       "      <td>No emotion toward brand or product</td>\n",
       "    </tr>\n",
       "    <tr>\n",
       "      <th>...</th>\n",
       "      <td>...</td>\n",
       "      <td>...</td>\n",
       "      <td>...</td>\n",
       "    </tr>\n",
       "    <tr>\n",
       "      <th>9087</th>\n",
       "      <td>@mention Yup, but I don't have a third app yet...</td>\n",
       "      <td>NaN</td>\n",
       "      <td>No emotion toward brand or product</td>\n",
       "    </tr>\n",
       "    <tr>\n",
       "      <th>9089</th>\n",
       "      <td>Wave, buzz... RT @mention We interrupt your re...</td>\n",
       "      <td>NaN</td>\n",
       "      <td>No emotion toward brand or product</td>\n",
       "    </tr>\n",
       "    <tr>\n",
       "      <th>9090</th>\n",
       "      <td>Google's Zeiger, a physician never reported po...</td>\n",
       "      <td>NaN</td>\n",
       "      <td>No emotion toward brand or product</td>\n",
       "    </tr>\n",
       "    <tr>\n",
       "      <th>9091</th>\n",
       "      <td>Some Verizon iPhone customers complained their...</td>\n",
       "      <td>NaN</td>\n",
       "      <td>No emotion toward brand or product</td>\n",
       "    </tr>\n",
       "    <tr>\n",
       "      <th>9092</th>\n",
       "      <td>Ï¡Ïàü_ÊÎÒ£Áââ_£â_ÛâRT @...</td>\n",
       "      <td>NaN</td>\n",
       "      <td>No emotion toward brand or product</td>\n",
       "    </tr>\n",
       "  </tbody>\n",
       "</table>\n",
       "<p>5802 rows × 3 columns</p>\n",
       "</div>"
      ],
      "text/plain": [
       "                                             tweet_text Product  \\\n",
       "5     @teachntech00 New iPad Apps For #SpeechTherapy...     NaN   \n",
       "6                                                   NaN     NaN   \n",
       "16    Holler Gram for iPad on the iTunes App Store -...     NaN   \n",
       "32    Attn: All  #SXSW frineds, @mention Register fo...     NaN   \n",
       "33        Anyone at  #sxsw want to sell their old iPad?     NaN   \n",
       "...                                                 ...     ...   \n",
       "9087  @mention Yup, but I don't have a third app yet...     NaN   \n",
       "9089  Wave, buzz... RT @mention We interrupt your re...     NaN   \n",
       "9090  Google's Zeiger, a physician never reported po...     NaN   \n",
       "9091  Some Verizon iPhone customers complained their...     NaN   \n",
       "9092  Ï¡Ïàü_ÊÎÒ£Áââ_£â_ÛâRT @...     NaN   \n",
       "\n",
       "                                 Emotion  \n",
       "5     No emotion toward brand or product  \n",
       "6     No emotion toward brand or product  \n",
       "16    No emotion toward brand or product  \n",
       "32    No emotion toward brand or product  \n",
       "33    No emotion toward brand or product  \n",
       "...                                  ...  \n",
       "9087  No emotion toward brand or product  \n",
       "9089  No emotion toward brand or product  \n",
       "9090  No emotion toward brand or product  \n",
       "9091  No emotion toward brand or product  \n",
       "9092  No emotion toward brand or product  \n",
       "\n",
       "[5802 rows x 3 columns]"
      ]
     },
     "execution_count": 220,
     "metadata": {},
     "output_type": "execute_result"
    }
   ],
   "source": [
    "for c in data['tweet_text']:\n",
    "    "
   ]
  },
  {
   "cell_type": "code",
   "execution_count": 223,
   "id": "4d78065a",
   "metadata": {},
   "outputs": [],
   "source": [
    "for product in product_words:\n",
    "    if product in data['tweet_text']:\n",
    "        print('product')"
   ]
  },
  {
   "cell_type": "code",
   "execution_count": 231,
   "id": "63ff9ffd",
   "metadata": {},
   "outputs": [
    {
     "data": {
      "text/html": [
       "<div>\n",
       "<style scoped>\n",
       "    .dataframe tbody tr th:only-of-type {\n",
       "        vertical-align: middle;\n",
       "    }\n",
       "\n",
       "    .dataframe tbody tr th {\n",
       "        vertical-align: top;\n",
       "    }\n",
       "\n",
       "    .dataframe thead th {\n",
       "        text-align: right;\n",
       "    }\n",
       "</style>\n",
       "<table border=\"1\" class=\"dataframe\">\n",
       "  <thead>\n",
       "    <tr style=\"text-align: right;\">\n",
       "      <th></th>\n",
       "      <th>tweet_text</th>\n",
       "      <th>Product</th>\n",
       "      <th>Emotion</th>\n",
       "    </tr>\n",
       "  </thead>\n",
       "  <tbody>\n",
       "  </tbody>\n",
       "</table>\n",
       "</div>"
      ],
      "text/plain": [
       "Empty DataFrame\n",
       "Columns: [tweet_text, Product, Emotion]\n",
       "Index: []"
      ]
     },
     "execution_count": 231,
     "metadata": {},
     "output_type": "execute_result"
    }
   ],
   "source": [
    "nan_products[nan_products['tweet_text'].isin(product_words)]"
   ]
  },
  {
   "cell_type": "code",
   "execution_count": 232,
   "id": "8826e63b",
   "metadata": {},
   "outputs": [
    {
     "data": {
      "text/plain": [
       "['iPad',\n",
       " 'Apple',\n",
       " 'iPad or iPhone App',\n",
       " 'Google',\n",
       " 'iPhone',\n",
       " 'Other Google product or service',\n",
       " 'Android App',\n",
       " 'Android']"
      ]
     },
     "execution_count": 232,
     "metadata": {},
     "output_type": "execute_result"
    }
   ],
   "source": [
    "product_words"
   ]
  },
  {
   "cell_type": "code",
   "execution_count": 233,
   "id": "5beedd35",
   "metadata": {},
   "outputs": [],
   "source": [
    "def word_checker(sentence):\n",
    "    if any(word in product_words for word in sentence.lower().split()):\n",
    "        return 'Yes'\n",
    "    else:\n",
    "        return 'No'"
   ]
  },
  {
   "cell_type": "code",
   "execution_count": 236,
   "id": "46fcb867",
   "metadata": {},
   "outputs": [
    {
     "data": {
      "text/html": [
       "<div>\n",
       "<style scoped>\n",
       "    .dataframe tbody tr th:only-of-type {\n",
       "        vertical-align: middle;\n",
       "    }\n",
       "\n",
       "    .dataframe tbody tr th {\n",
       "        vertical-align: top;\n",
       "    }\n",
       "\n",
       "    .dataframe thead th {\n",
       "        text-align: right;\n",
       "    }\n",
       "</style>\n",
       "<table border=\"1\" class=\"dataframe\">\n",
       "  <thead>\n",
       "    <tr style=\"text-align: right;\">\n",
       "      <th></th>\n",
       "      <th>tweet_text</th>\n",
       "      <th>Product</th>\n",
       "      <th>Emotion</th>\n",
       "    </tr>\n",
       "  </thead>\n",
       "  <tbody>\n",
       "    <tr>\n",
       "      <th>5</th>\n",
       "      <td>@teachntech00 New iPad Apps For #SpeechTherapy...</td>\n",
       "      <td>NaN</td>\n",
       "      <td>No emotion toward brand or product</td>\n",
       "    </tr>\n",
       "    <tr>\n",
       "      <th>6</th>\n",
       "      <td>NaN</td>\n",
       "      <td>NaN</td>\n",
       "      <td>No emotion toward brand or product</td>\n",
       "    </tr>\n",
       "    <tr>\n",
       "      <th>16</th>\n",
       "      <td>Holler Gram for iPad on the iTunes App Store -...</td>\n",
       "      <td>NaN</td>\n",
       "      <td>No emotion toward brand or product</td>\n",
       "    </tr>\n",
       "    <tr>\n",
       "      <th>32</th>\n",
       "      <td>Attn: All  #SXSW frineds, @mention Register fo...</td>\n",
       "      <td>NaN</td>\n",
       "      <td>No emotion toward brand or product</td>\n",
       "    </tr>\n",
       "    <tr>\n",
       "      <th>33</th>\n",
       "      <td>Anyone at  #sxsw want to sell their old iPad?</td>\n",
       "      <td>NaN</td>\n",
       "      <td>No emotion toward brand or product</td>\n",
       "    </tr>\n",
       "    <tr>\n",
       "      <th>...</th>\n",
       "      <td>...</td>\n",
       "      <td>...</td>\n",
       "      <td>...</td>\n",
       "    </tr>\n",
       "    <tr>\n",
       "      <th>9087</th>\n",
       "      <td>@mention Yup, but I don't have a third app yet...</td>\n",
       "      <td>NaN</td>\n",
       "      <td>No emotion toward brand or product</td>\n",
       "    </tr>\n",
       "    <tr>\n",
       "      <th>9089</th>\n",
       "      <td>Wave, buzz... RT @mention We interrupt your re...</td>\n",
       "      <td>NaN</td>\n",
       "      <td>No emotion toward brand or product</td>\n",
       "    </tr>\n",
       "    <tr>\n",
       "      <th>9090</th>\n",
       "      <td>Google's Zeiger, a physician never reported po...</td>\n",
       "      <td>NaN</td>\n",
       "      <td>No emotion toward brand or product</td>\n",
       "    </tr>\n",
       "    <tr>\n",
       "      <th>9091</th>\n",
       "      <td>Some Verizon iPhone customers complained their...</td>\n",
       "      <td>NaN</td>\n",
       "      <td>No emotion toward brand or product</td>\n",
       "    </tr>\n",
       "    <tr>\n",
       "      <th>9092</th>\n",
       "      <td>Ï¡Ïàü_ÊÎÒ£Áââ_£â_ÛâRT @...</td>\n",
       "      <td>NaN</td>\n",
       "      <td>No emotion toward brand or product</td>\n",
       "    </tr>\n",
       "  </tbody>\n",
       "</table>\n",
       "<p>5802 rows × 3 columns</p>\n",
       "</div>"
      ],
      "text/plain": [
       "                                             tweet_text Product  \\\n",
       "5     @teachntech00 New iPad Apps For #SpeechTherapy...     NaN   \n",
       "6                                                   NaN     NaN   \n",
       "16    Holler Gram for iPad on the iTunes App Store -...     NaN   \n",
       "32    Attn: All  #SXSW frineds, @mention Register fo...     NaN   \n",
       "33        Anyone at  #sxsw want to sell their old iPad?     NaN   \n",
       "...                                                 ...     ...   \n",
       "9087  @mention Yup, but I don't have a third app yet...     NaN   \n",
       "9089  Wave, buzz... RT @mention We interrupt your re...     NaN   \n",
       "9090  Google's Zeiger, a physician never reported po...     NaN   \n",
       "9091  Some Verizon iPhone customers complained their...     NaN   \n",
       "9092  Ï¡Ïàü_ÊÎÒ£Áââ_£â_ÛâRT @...     NaN   \n",
       "\n",
       "                                 Emotion  \n",
       "5     No emotion toward brand or product  \n",
       "6     No emotion toward brand or product  \n",
       "16    No emotion toward brand or product  \n",
       "32    No emotion toward brand or product  \n",
       "33    No emotion toward brand or product  \n",
       "...                                  ...  \n",
       "9087  No emotion toward brand or product  \n",
       "9089  No emotion toward brand or product  \n",
       "9090  No emotion toward brand or product  \n",
       "9091  No emotion toward brand or product  \n",
       "9092  No emotion toward brand or product  \n",
       "\n",
       "[5802 rows x 3 columns]"
      ]
     },
     "execution_count": 236,
     "metadata": {},
     "output_type": "execute_result"
    }
   ],
   "source": [
    "nan_products"
   ]
  },
  {
   "cell_type": "code",
   "execution_count": 244,
   "id": "4851f8c2",
   "metadata": {},
   "outputs": [
    {
     "name": "stdout",
     "output_type": "stream",
     "text": [
      "<class 'pandas.core.frame.DataFrame'>\n",
      "Int64Index: 5802 entries, 5 to 9092\n",
      "Data columns (total 3 columns):\n",
      " #   Column      Non-Null Count  Dtype \n",
      "---  ------      --------------  ----- \n",
      " 0   tweet_text  5801 non-null   object\n",
      " 1   Product     0 non-null      object\n",
      " 2   Emotion     5802 non-null   object\n",
      "dtypes: object(3)\n",
      "memory usage: 181.3+ KB\n"
     ]
    }
   ],
   "source": [
    "nan_products.info()"
   ]
  },
  {
   "cell_type": "code",
   "execution_count": 248,
   "id": "4fae5344",
   "metadata": {},
   "outputs": [
    {
     "data": {
      "text/plain": [
       "0       False\n",
       "1       False\n",
       "2       False\n",
       "3       False\n",
       "4       False\n",
       "        ...  \n",
       "9088    False\n",
       "9089    False\n",
       "9090    False\n",
       "9091    False\n",
       "9092    False\n",
       "Name: tweet_text, Length: 9093, dtype: object"
      ]
     },
     "execution_count": 248,
     "metadata": {},
     "output_type": "execute_result"
    }
   ],
   "source": [
    "data['tweet_text']"
   ]
  },
  {
   "cell_type": "code",
   "execution_count": 249,
   "id": "4a138db8",
   "metadata": {},
   "outputs": [],
   "source": [
    "import re\n",
    "list = re.findall(\"[@]\\w+\", data['tweet_text'][0])"
   ]
  },
  {
   "cell_type": "code",
   "execution_count": 265,
   "id": "d299a10f",
   "metadata": {},
   "outputs": [],
   "source": [
    "data['tweet_text'] = data['tweet_text'].dropna(inplace=True)"
   ]
  },
  {
   "cell_type": "code",
   "execution_count": 304,
   "id": "9f52556d",
   "metadata": {},
   "outputs": [],
   "source": [
    "data = data.dropna()"
   ]
  },
  {
   "cell_type": "code",
   "execution_count": null,
   "id": "4e00b519",
   "metadata": {},
   "outputs": [],
   "source": [
    "df['team'] =  df['team'].apply(lambda x: re.sub(r'[\\n\\r]*','', str(x)))\n"
   ]
  },
  {
   "cell_type": "code",
   "execution_count": 317,
   "id": "eebf4a27",
   "metadata": {},
   "outputs": [],
   "source": [
    "# data['tweet_text'].apply(lambda x: re.search(\"[@]\\w+\"),x)\n",
    "data['tweet_no_mentions'] = data['tweet_text'].str.replace(r'[@]\\w+','')\n"
   ]
  },
  {
   "cell_type": "code",
   "execution_count": 318,
   "id": "9c5375a2",
   "metadata": {},
   "outputs": [
    {
     "data": {
      "text/html": [
       "<div>\n",
       "<style scoped>\n",
       "    .dataframe tbody tr th:only-of-type {\n",
       "        vertical-align: middle;\n",
       "    }\n",
       "\n",
       "    .dataframe tbody tr th {\n",
       "        vertical-align: top;\n",
       "    }\n",
       "\n",
       "    .dataframe thead th {\n",
       "        text-align: right;\n",
       "    }\n",
       "</style>\n",
       "<table border=\"1\" class=\"dataframe\">\n",
       "  <thead>\n",
       "    <tr style=\"text-align: right;\">\n",
       "      <th></th>\n",
       "      <th>tweet_text</th>\n",
       "      <th>Product</th>\n",
       "      <th>Emotion</th>\n",
       "      <th>tweet_no_mentions</th>\n",
       "    </tr>\n",
       "  </thead>\n",
       "  <tbody>\n",
       "    <tr>\n",
       "      <th>0</th>\n",
       "      <td>.@wesley83 I have a 3G iPhone. After 3 hrs twe...</td>\n",
       "      <td>iPhone</td>\n",
       "      <td>Negative emotion</td>\n",
       "      <td>. I have a 3G iPhone. After 3 hrs tweeting at ...</td>\n",
       "    </tr>\n",
       "    <tr>\n",
       "      <th>1</th>\n",
       "      <td>@jessedee Know about @fludapp ? Awesome iPad/i...</td>\n",
       "      <td>iPad or iPhone App</td>\n",
       "      <td>Positive emotion</td>\n",
       "      <td>Know about  ? Awesome iPad/iPhone app that yo...</td>\n",
       "    </tr>\n",
       "    <tr>\n",
       "      <th>2</th>\n",
       "      <td>@swonderlin Can not wait for #iPad 2 also. The...</td>\n",
       "      <td>iPad</td>\n",
       "      <td>Positive emotion</td>\n",
       "      <td>Can not wait for #iPad 2 also. They should sa...</td>\n",
       "    </tr>\n",
       "    <tr>\n",
       "      <th>3</th>\n",
       "      <td>@sxsw I hope this year's festival isn't as cra...</td>\n",
       "      <td>iPad or iPhone App</td>\n",
       "      <td>Negative emotion</td>\n",
       "      <td>I hope this year's festival isn't as crashy a...</td>\n",
       "    </tr>\n",
       "    <tr>\n",
       "      <th>4</th>\n",
       "      <td>@sxtxstate great stuff on Fri #SXSW: Marissa M...</td>\n",
       "      <td>Google</td>\n",
       "      <td>Positive emotion</td>\n",
       "      <td>great stuff on Fri #SXSW: Marissa Mayer (Goog...</td>\n",
       "    </tr>\n",
       "    <tr>\n",
       "      <th>...</th>\n",
       "      <td>...</td>\n",
       "      <td>...</td>\n",
       "      <td>...</td>\n",
       "      <td>...</td>\n",
       "    </tr>\n",
       "    <tr>\n",
       "      <th>9088</th>\n",
       "      <td>Ipad everywhere. #SXSW {link}</td>\n",
       "      <td>iPad</td>\n",
       "      <td>Positive emotion</td>\n",
       "      <td>Ipad everywhere. #SXSW {link}</td>\n",
       "    </tr>\n",
       "    <tr>\n",
       "      <th>9089</th>\n",
       "      <td>Wave, buzz... RT @mention We interrupt your re...</td>\n",
       "      <td>NaN</td>\n",
       "      <td>No emotion toward brand or product</td>\n",
       "      <td>Wave, buzz... RT  We interrupt your regularly ...</td>\n",
       "    </tr>\n",
       "    <tr>\n",
       "      <th>9090</th>\n",
       "      <td>Google's Zeiger, a physician never reported po...</td>\n",
       "      <td>NaN</td>\n",
       "      <td>No emotion toward brand or product</td>\n",
       "      <td>Google's Zeiger, a physician never reported po...</td>\n",
       "    </tr>\n",
       "    <tr>\n",
       "      <th>9091</th>\n",
       "      <td>Some Verizon iPhone customers complained their...</td>\n",
       "      <td>NaN</td>\n",
       "      <td>No emotion toward brand or product</td>\n",
       "      <td>Some Verizon iPhone customers complained their...</td>\n",
       "    </tr>\n",
       "    <tr>\n",
       "      <th>9092</th>\n",
       "      <td>Ï¡Ïàü_ÊÎÒ£Áââ_£â_ÛâRT @...</td>\n",
       "      <td>NaN</td>\n",
       "      <td>No emotion toward brand or product</td>\n",
       "      <td>Ï¡Ïàü_ÊÎÒ£Áââ_£â_ÛâRT  ...</td>\n",
       "    </tr>\n",
       "  </tbody>\n",
       "</table>\n",
       "<p>9093 rows × 4 columns</p>\n",
       "</div>"
      ],
      "text/plain": [
       "                                             tweet_text             Product  \\\n",
       "0     .@wesley83 I have a 3G iPhone. After 3 hrs twe...              iPhone   \n",
       "1     @jessedee Know about @fludapp ? Awesome iPad/i...  iPad or iPhone App   \n",
       "2     @swonderlin Can not wait for #iPad 2 also. The...                iPad   \n",
       "3     @sxsw I hope this year's festival isn't as cra...  iPad or iPhone App   \n",
       "4     @sxtxstate great stuff on Fri #SXSW: Marissa M...              Google   \n",
       "...                                                 ...                 ...   \n",
       "9088                      Ipad everywhere. #SXSW {link}                iPad   \n",
       "9089  Wave, buzz... RT @mention We interrupt your re...                 NaN   \n",
       "9090  Google's Zeiger, a physician never reported po...                 NaN   \n",
       "9091  Some Verizon iPhone customers complained their...                 NaN   \n",
       "9092  Ï¡Ïàü_ÊÎÒ£Áââ_£â_ÛâRT @...                 NaN   \n",
       "\n",
       "                                 Emotion  \\\n",
       "0                       Negative emotion   \n",
       "1                       Positive emotion   \n",
       "2                       Positive emotion   \n",
       "3                       Negative emotion   \n",
       "4                       Positive emotion   \n",
       "...                                  ...   \n",
       "9088                    Positive emotion   \n",
       "9089  No emotion toward brand or product   \n",
       "9090  No emotion toward brand or product   \n",
       "9091  No emotion toward brand or product   \n",
       "9092  No emotion toward brand or product   \n",
       "\n",
       "                                      tweet_no_mentions  \n",
       "0     . I have a 3G iPhone. After 3 hrs tweeting at ...  \n",
       "1      Know about  ? Awesome iPad/iPhone app that yo...  \n",
       "2      Can not wait for #iPad 2 also. They should sa...  \n",
       "3      I hope this year's festival isn't as crashy a...  \n",
       "4      great stuff on Fri #SXSW: Marissa Mayer (Goog...  \n",
       "...                                                 ...  \n",
       "9088                      Ipad everywhere. #SXSW {link}  \n",
       "9089  Wave, buzz... RT  We interrupt your regularly ...  \n",
       "9090  Google's Zeiger, a physician never reported po...  \n",
       "9091  Some Verizon iPhone customers complained their...  \n",
       "9092  Ï¡Ïàü_ÊÎÒ£Áââ_£â_ÛâRT  ...  \n",
       "\n",
       "[9093 rows x 4 columns]"
      ]
     },
     "execution_count": 318,
     "metadata": {},
     "output_type": "execute_result"
    }
   ],
   "source": [
    "data"
   ]
  },
  {
   "cell_type": "code",
   "execution_count": null,
   "id": "41512fb8",
   "metadata": {},
   "outputs": [],
   "source": [
    "def clean_text(rgx_list, text):\n",
    "    new_text = text\n",
    "    for rgx_match in rgx_list:\n",
    "        new_text = re.sub(\"[@]\\w+\", '', new_text)\n",
    "    return new_text"
   ]
  }
 ],
 "metadata": {
  "kernelspec": {
   "display_name": "Python (learn-env)",
   "language": "python",
   "name": "learn-env"
  },
  "language_info": {
   "codemirror_mode": {
    "name": "ipython",
    "version": 3
   },
   "file_extension": ".py",
   "mimetype": "text/x-python",
   "name": "python",
   "nbconvert_exporter": "python",
   "pygments_lexer": "ipython3",
   "version": "3.8.5"
  },
  "toc": {
   "base_numbering": 1,
   "nav_menu": {},
   "number_sections": true,
   "sideBar": true,
   "skip_h1_title": true,
   "title_cell": "Table of Contents",
   "title_sidebar": "Contents",
   "toc_cell": false,
   "toc_position": {
    "height": "calc(100% - 180px)",
    "left": "10px",
    "top": "150px",
    "width": "165px"
   },
   "toc_section_display": true,
   "toc_window_display": true
  },
  "varInspector": {
   "cols": {
    "lenName": 16,
    "lenType": 16,
    "lenVar": 40
   },
   "kernels_config": {
    "python": {
     "delete_cmd_postfix": "",
     "delete_cmd_prefix": "del ",
     "library": "var_list.py",
     "varRefreshCmd": "print(var_dic_list())"
    },
    "r": {
     "delete_cmd_postfix": ") ",
     "delete_cmd_prefix": "rm(",
     "library": "var_list.r",
     "varRefreshCmd": "cat(var_dic_list()) "
    }
   },
   "types_to_exclude": [
    "module",
    "function",
    "builtin_function_or_method",
    "instance",
    "_Feature"
   ],
   "window_display": false
  }
 },
 "nbformat": 4,
 "nbformat_minor": 5
}
